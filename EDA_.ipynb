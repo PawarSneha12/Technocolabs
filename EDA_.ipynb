{
  "nbformat": 4,
  "nbformat_minor": 0,
  "metadata": {
    "colab": {
      "provenance": [],
      "gpuType": "T4"
    },
    "kernelspec": {
      "name": "python3",
      "display_name": "Python 3"
    },
    "language_info": {
      "name": "python"
    },
    "accelerator": "GPU"
  },
  "cells": [
    {
      "cell_type": "code",
      "source": [
        "import numpy as np # linear algebra\n",
        "import pandas as pd # data processing, CSV file I/O (e.g. pd.read_csv)\n",
        "import seaborn as sns # for visualization\n",
        "import plotly.express as px # for visualization\n",
        "import matplotlib.pyplot as plt # for visualization\n",
        "%matplotlib inline\n",
        "\n",
        "# To display all the columns of dataframe\n",
        "pd.set_option('display.max_columns', 500)\n",
        "import warnings\n",
        "warnings.filterwarnings(\"ignore\")"
      ],
      "metadata": {
        "id": "so7qoYPMo90s"
      },
      "execution_count": null,
      "outputs": []
    },
    {
      "cell_type": "markdown",
      "source": [
        "Loading Data"
      ],
      "metadata": {
        "id": "AI3jEfGPptJ5"
      }
    },
    {
      "cell_type": "code",
      "source": [
        "df=pd.read_csv(r'/content/drive/MyDrive/Bondora_raw.csv')"
      ],
      "metadata": {
        "id": "lCtVi5Xipu17"
      },
      "execution_count": null,
      "outputs": []
    },
    {
      "cell_type": "code",
      "source": [
        "df.shape"
      ],
      "metadata": {
        "colab": {
          "base_uri": "https://localhost:8080/"
        },
        "id": "6yRkuzs5qdmU",
        "outputId": "3df61efe-4d6a-4b5a-f984-d5b7c7ae7a71"
      },
      "execution_count": null,
      "outputs": [
        {
          "output_type": "execute_result",
          "data": {
            "text/plain": [
              "(134529, 112)"
            ]
          },
          "metadata": {},
          "execution_count": 3
        }
      ]
    },
    {
      "cell_type": "code",
      "source": [
        "df['Status'].value_counts()"
      ],
      "metadata": {
        "colab": {
          "base_uri": "https://localhost:8080/"
        },
        "id": "KO4UngfhrBel",
        "outputId": "7eccd3ed-1256-4936-ea6c-a4e6de7aed7e"
      },
      "execution_count": null,
      "outputs": [
        {
          "output_type": "execute_result",
          "data": {
            "text/plain": [
              "Current    57135\n",
              "Late       45772\n",
              "Repaid     31622\n",
              "Name: Status, dtype: int64"
            ]
          },
          "metadata": {},
          "execution_count": 4
        }
      ]
    },
    {
      "cell_type": "code",
      "source": [
        "df.head()"
      ],
      "metadata": {
        "colab": {
          "base_uri": "https://localhost:8080/",
          "height": 530
        },
        "id": "1kq5jJnzrG44",
        "outputId": "34dab3eb-aff0-403e-d92c-29793874e248"
      },
      "execution_count": null,
      "outputs": [
        {
          "output_type": "execute_result",
          "data": {
            "text/plain": [
              "  ReportAsOfEOD                                LoanId  LoanNumber  \\\n",
              "0    2020-01-27  F0660C80-83F3-4A97-8DA0-9C250112D6EC         659   \n",
              "1    2020-01-27  978BB85B-1C69-4D51-8447-9C240104A3A2         654   \n",
              "2    2020-01-27  EA44027E-7FA7-4BB2-846D-9C1F013C8A22         641   \n",
              "3    2020-01-27  CE67AD25-2951-4BEE-96BD-9C2700C61EF4         668   \n",
              "4    2020-01-27  9408BF8C-B159-4D6A-9D61-9C2400A986E3         652   \n",
              "\n",
              "           ListedOnUTC     BiddingStartedOn  BidsPortfolioManager  BidsApi  \\\n",
              "0  2009-06-11 16:40:39  2009-06-11 16:40:39                     0        0   \n",
              "1  2009-06-10 15:48:57  2009-06-10 15:48:57                     0        0   \n",
              "2  2009-06-05 19:12:29  2009-06-05 19:12:29                     0        0   \n",
              "3  2009-06-13 12:01:20  2009-06-13 12:01:20                     0        0   \n",
              "4  2009-06-10 10:17:13  2009-06-10 10:17:13                     0        0   \n",
              "\n",
              "   BidsManual  UserName  NewCreditCustomer LoanApplicationStartedDate  \\\n",
              "0    115.0410      KARU               True        2009-06-11 16:40:39   \n",
              "1    140.6057  koort681              False        2009-06-10 15:48:57   \n",
              "2    319.5580       0ie               True        2009-06-05 19:12:29   \n",
              "3     57.5205    Alyona               True        2009-06-13 12:01:20   \n",
              "4    319.5582       Kai               True        2009-06-10 10:17:13   \n",
              "\n",
              "     LoanDate ContractEndDate FirstPaymentDate MaturityDate_Original  \\\n",
              "0  2009-06-16      2010-07-06       2009-07-27            2010-06-25   \n",
              "1  2009-06-15      2009-07-07       2009-07-15            2009-07-15   \n",
              "2  2009-06-15             NaN       2009-07-27            2011-02-25   \n",
              "3  2009-06-15      2010-09-15       2009-07-15            2010-09-15   \n",
              "4  2009-06-14      2016-07-28       2009-07-27            2010-06-25   \n",
              "\n",
              "  MaturityDate_Last  ApplicationSignedHour  ApplicationSignedWeekday  \\\n",
              "0        2010-06-25                     17                         5   \n",
              "1        2009-07-15                     20                         4   \n",
              "2        2014-05-13                     20                         6   \n",
              "3        2010-09-15                     12                         7   \n",
              "4        2010-06-25                     10                         4   \n",
              "\n",
              "   VerificationType  LanguageCode  Age DateOfBirth  Gender Country  \\\n",
              "0               2.0             1   61  1947-11-26     1.0      EE   \n",
              "1               2.0             1   48  1960-11-05     1.0      EE   \n",
              "2               2.0             1   58  1950-11-13     1.0      EE   \n",
              "3               2.0             1   23  1986-03-29     1.0      EE   \n",
              "4               2.0             1   25  1983-09-30     1.0      EE   \n",
              "\n",
              "   AppliedAmount    Amount  Interest  LoanDuration  MonthlyPayment    County  \\\n",
              "0       319.5582  115.0408      30.0            12             NaN     HARJU   \n",
              "1       191.7349  140.6057      25.0             1             NaN  IDA-VIRU   \n",
              "2       319.5582  319.5409      25.0            20             NaN     PÄRNU   \n",
              "3       127.8233   57.5205      45.0            15             NaN     HARJU   \n",
              "4       319.5582  319.5436      30.0            12             NaN     TARTU   \n",
              "\n",
              "           City  UseOfLoan  Education  MaritalStatus NrOfDependants  \\\n",
              "0       TALLINN          7        3.0            1.0              0   \n",
              "1  KOHTLA-JARVE          7        5.0            4.0              0   \n",
              "2         PÄRNU          2        4.0            1.0              0   \n",
              "3      PALDISKI          0        2.0            3.0              1   \n",
              "4         TARTU          6        4.0            2.0              0   \n",
              "\n",
              "   EmploymentStatus EmploymentDurationCurrentEmployer  \\\n",
              "0               3.0                        UpTo3Years   \n",
              "1               3.0                    MoreThan5Years   \n",
              "2               3.0                        UpTo4Years   \n",
              "3               NaN                        UpTo2Years   \n",
              "4               3.0                        UpTo2Years   \n",
              "\n",
              "          EmploymentPosition   WorkExperience  OccupationArea  \\\n",
              "0          klienditeenindaja  MoreThan25Years             7.0   \n",
              "1  Õppealajuhataja lasteaias  MoreThan25Years            16.0   \n",
              "2                 teenindaja  MoreThan25Years             9.0   \n",
              "3               juhtmekoitja        2To5Years             1.0   \n",
              "4          klienditeenindaja       5To10Years             7.0   \n",
              "\n",
              "   HomeOwnershipType  IncomeFromPrincipalEmployer  IncomeFromPension  \\\n",
              "0                NaN                       6000.0                0.0   \n",
              "1                NaN                       8300.0                0.0   \n",
              "2                NaN                       5000.0                0.0   \n",
              "3                NaN                      11000.0                0.0   \n",
              "4                NaN                       6800.0                0.0   \n",
              "\n",
              "   IncomeFromFamilyAllowance  IncomeFromSocialWelfare  IncomeFromLeavePay  \\\n",
              "0                        0.0                      0.0                 0.0   \n",
              "1                        0.0                      0.0                 0.0   \n",
              "2                        0.0                      0.0                 0.0   \n",
              "3                        0.0                      0.0                 0.0   \n",
              "4                        0.0                      0.0                 0.0   \n",
              "\n",
              "   IncomeFromChildSupport  IncomeOther  IncomeTotal  ExistingLiabilities  \\\n",
              "0                     0.0       4500.0      10500.0                    0   \n",
              "1                     0.0       2500.0      10800.0                    0   \n",
              "2                     0.0       2000.0       7000.0                    0   \n",
              "3                     0.0        600.0      11600.0                    0   \n",
              "4                     0.0          0.0       6800.0                    0   \n",
              "\n",
              "   LiabilitiesTotal  RefinanceLiabilities  DebtToIncome  FreeCash  \\\n",
              "0               0.0                     0           0.0       0.0   \n",
              "1               0.0                     0           0.0       0.0   \n",
              "2               0.0                     0           0.0       0.0   \n",
              "3               0.0                     0           0.0       0.0   \n",
              "4               0.0                     0           0.0       0.0   \n",
              "\n",
              "   MonthlyPaymentDay  ActiveScheduleFirstPaymentReached  \\\n",
              "0                 25                               True   \n",
              "1                 15                               True   \n",
              "2                 25                               True   \n",
              "3                 15                               True   \n",
              "4                 25                               True   \n",
              "\n",
              "   PlannedPrincipalTillDate  PlannedInterestTillDate LastPaymentOn  \\\n",
              "0                 1800.0000                 319.0800    2010-07-06   \n",
              "1                 2200.0000                  45.8300    2009-07-07   \n",
              "2                  319.5409                 197.2926    2012-10-01   \n",
              "3                  900.0000                 293.1000    2010-09-15   \n",
              "4                 5000.0000                 833.8100    2015-07-16   \n",
              "\n",
              "   CurrentDebtDaysPrimary DebtOccuredOn  CurrentDebtDaysSecondary  \\\n",
              "0                     NaN           NaN                       NaN   \n",
              "1                     NaN           NaN                       NaN   \n",
              "2                  2813.0    2012-05-14                    2935.0   \n",
              "3                     NaN           NaN                       NaN   \n",
              "4                     NaN           NaN                    3835.0   \n",
              "\n",
              "  DebtOccuredOnForSecondary  ExpectedLoss  LossGivenDefault  ExpectedReturn  \\\n",
              "0                       NaN           NaN               NaN             NaN   \n",
              "1                       NaN           NaN               NaN             NaN   \n",
              "2                2012-01-13           NaN               NaN             NaN   \n",
              "3                       NaN           NaN               NaN             NaN   \n",
              "4                2009-07-27           NaN               NaN             NaN   \n",
              "\n",
              "   ProbabilityOfDefault DefaultDate  PrincipalOverdueBySchedule  \\\n",
              "0                   NaN         NaN                         NaN   \n",
              "1                   NaN         NaN                         NaN   \n",
              "2                   NaN  2012-07-16                      116.35   \n",
              "3                   NaN         NaN                         NaN   \n",
              "4                   NaN  2009-09-28                         NaN   \n",
              "\n",
              "   PlannedPrincipalPostDefault  PlannedInterestPostDefault      EAD1  \\\n",
              "0                          NaN                         NaN       NaN   \n",
              "1                          NaN                         NaN       NaN   \n",
              "2                       236.97                       38.24  279.5049   \n",
              "3                          NaN                         NaN       NaN   \n",
              "4                       247.76                       29.84  319.5436   \n",
              "\n",
              "       EAD2  PrincipalRecovery  InterestRecovery  RecoveryStage  \\\n",
              "0       NaN                NaN               NaN            NaN   \n",
              "1       NaN                NaN               NaN            NaN   \n",
              "2  270.7323           163.1549             50.99            NaN   \n",
              "3       NaN                NaN               NaN            NaN   \n",
              "4  319.5436           319.5436            220.42            NaN   \n",
              "\n",
              "      StageActiveSince  ModelVersion Rating  EL_V0 Rating_V0  EL_V1 Rating_V1  \\\n",
              "0                  NaN           NaN    NaN    NaN       NaN    NaN       NaN   \n",
              "1                  NaN           NaN    NaN    NaN       NaN    NaN       NaN   \n",
              "2  2016-03-03 00:00:00           NaN    NaN    NaN       NaN    NaN       NaN   \n",
              "3                  NaN           NaN    NaN    NaN       NaN    NaN       NaN   \n",
              "4                  NaN           NaN    NaN    NaN       NaN    NaN       NaN   \n",
              "\n",
              "  Rating_V2  Status  Restructured ActiveLateCategory WorseLateCategory  \\\n",
              "0       NaN  Repaid         False                NaN            91-120   \n",
              "1       NaN  Repaid         False                NaN               NaN   \n",
              "2       NaN    Late          True               180+              180+   \n",
              "3       NaN  Repaid         False                NaN             31-60   \n",
              "4       NaN  Repaid         False                NaN              180+   \n",
              "\n",
              "  CreditScoreEsMicroL CreditScoreEsEquifaxRisk  \\\n",
              "0                 NaN                      NaN   \n",
              "1                 NaN                      NaN   \n",
              "2                 NaN                      NaN   \n",
              "3                 NaN                      NaN   \n",
              "4                 NaN                      NaN   \n",
              "\n",
              "  CreditScoreFiAsiakasTietoRiskGrade  CreditScoreEeMini  \\\n",
              "0                                NaN                NaN   \n",
              "1                                NaN                NaN   \n",
              "2                                NaN                NaN   \n",
              "3                                NaN                NaN   \n",
              "4                                NaN                NaN   \n",
              "\n",
              "   PrincipalPaymentsMade  InterestAndPenaltyPaymentsMade  PrincipalWriteOffs  \\\n",
              "0               115.0408                         20.4222                 0.0   \n",
              "1               140.6057                          2.0227                 0.0   \n",
              "2               203.1909                         59.7626                 0.0   \n",
              "3                57.5205                         18.7323                 0.0   \n",
              "4               319.5436                        220.4200                 0.0   \n",
              "\n",
              "   InterestAndPenaltyWriteOffs  PrincipalBalance  InterestAndPenaltyBalance  \\\n",
              "0                          0.0              0.00                       0.00   \n",
              "1                          0.0              0.00                       0.00   \n",
              "2                          0.0            116.35                     414.07   \n",
              "3                          0.0              0.00                       0.00   \n",
              "4                          2.4              0.00                       0.00   \n",
              "\n",
              "   NoOfPreviousLoansBeforeLoan  AmountOfPreviousLoansBeforeLoan  \\\n",
              "0                            1                          83.0852   \n",
              "1                            2                         255.6467   \n",
              "2                            0                           0.0000   \n",
              "3                            1                         134.2144   \n",
              "4                            1                         146.9966   \n",
              "\n",
              "   PreviousRepaymentsBeforeLoan  PreviousEarlyRepaymentsBefoleLoan  \\\n",
              "0                        0.0000                                0.0   \n",
              "1                      258.6256                                0.0   \n",
              "2                        0.0000                                0.0   \n",
              "3                        0.0000                                0.0   \n",
              "4                        0.0000                                0.0   \n",
              "\n",
              "   PreviousEarlyRepaymentsCountBeforeLoan GracePeriodStart GracePeriodEnd  \\\n",
              "0                                       0              NaN            NaN   \n",
              "1                                       0              NaN            NaN   \n",
              "2                                       0              NaN            NaN   \n",
              "3                                       0              NaN            NaN   \n",
              "4                                       0              NaN            NaN   \n",
              "\n",
              "  NextPaymentDate  NextPaymentNr  NrOfScheduledPayments ReScheduledOn  \\\n",
              "0             NaN            NaN                    NaN           NaN   \n",
              "1             NaN            NaN                    NaN           NaN   \n",
              "2             NaN            NaN                    NaN           NaN   \n",
              "3             NaN            NaN                    NaN           NaN   \n",
              "4             NaN            NaN                    NaN           NaN   \n",
              "\n",
              "   PrincipalDebtServicingCost  InterestAndPenaltyDebtServicingCost  \\\n",
              "0                         0.0                                  0.0   \n",
              "1                         0.0                                  0.0   \n",
              "2                         0.0                                  0.0   \n",
              "3                         0.0                                  0.0   \n",
              "4                         0.0                                  0.0   \n",
              "\n",
              "  ActiveLateLastPaymentCategory  \n",
              "0                           NaN  \n",
              "1                           NaN  \n",
              "2                          180+  \n",
              "3                           NaN  \n",
              "4                          180+  "
            ],
            "text/html": [
              "\n",
              "  <div id=\"df-1c3d8c9c-1132-4d7c-b80b-a550d299a3b6\">\n",
              "    <div class=\"colab-df-container\">\n",
              "      <div>\n",
              "<style scoped>\n",
              "    .dataframe tbody tr th:only-of-type {\n",
              "        vertical-align: middle;\n",
              "    }\n",
              "\n",
              "    .dataframe tbody tr th {\n",
              "        vertical-align: top;\n",
              "    }\n",
              "\n",
              "    .dataframe thead th {\n",
              "        text-align: right;\n",
              "    }\n",
              "</style>\n",
              "<table border=\"1\" class=\"dataframe\">\n",
              "  <thead>\n",
              "    <tr style=\"text-align: right;\">\n",
              "      <th></th>\n",
              "      <th>ReportAsOfEOD</th>\n",
              "      <th>LoanId</th>\n",
              "      <th>LoanNumber</th>\n",
              "      <th>ListedOnUTC</th>\n",
              "      <th>BiddingStartedOn</th>\n",
              "      <th>BidsPortfolioManager</th>\n",
              "      <th>BidsApi</th>\n",
              "      <th>BidsManual</th>\n",
              "      <th>UserName</th>\n",
              "      <th>NewCreditCustomer</th>\n",
              "      <th>LoanApplicationStartedDate</th>\n",
              "      <th>LoanDate</th>\n",
              "      <th>ContractEndDate</th>\n",
              "      <th>FirstPaymentDate</th>\n",
              "      <th>MaturityDate_Original</th>\n",
              "      <th>MaturityDate_Last</th>\n",
              "      <th>ApplicationSignedHour</th>\n",
              "      <th>ApplicationSignedWeekday</th>\n",
              "      <th>VerificationType</th>\n",
              "      <th>LanguageCode</th>\n",
              "      <th>Age</th>\n",
              "      <th>DateOfBirth</th>\n",
              "      <th>Gender</th>\n",
              "      <th>Country</th>\n",
              "      <th>AppliedAmount</th>\n",
              "      <th>Amount</th>\n",
              "      <th>Interest</th>\n",
              "      <th>LoanDuration</th>\n",
              "      <th>MonthlyPayment</th>\n",
              "      <th>County</th>\n",
              "      <th>City</th>\n",
              "      <th>UseOfLoan</th>\n",
              "      <th>Education</th>\n",
              "      <th>MaritalStatus</th>\n",
              "      <th>NrOfDependants</th>\n",
              "      <th>EmploymentStatus</th>\n",
              "      <th>EmploymentDurationCurrentEmployer</th>\n",
              "      <th>EmploymentPosition</th>\n",
              "      <th>WorkExperience</th>\n",
              "      <th>OccupationArea</th>\n",
              "      <th>HomeOwnershipType</th>\n",
              "      <th>IncomeFromPrincipalEmployer</th>\n",
              "      <th>IncomeFromPension</th>\n",
              "      <th>IncomeFromFamilyAllowance</th>\n",
              "      <th>IncomeFromSocialWelfare</th>\n",
              "      <th>IncomeFromLeavePay</th>\n",
              "      <th>IncomeFromChildSupport</th>\n",
              "      <th>IncomeOther</th>\n",
              "      <th>IncomeTotal</th>\n",
              "      <th>ExistingLiabilities</th>\n",
              "      <th>LiabilitiesTotal</th>\n",
              "      <th>RefinanceLiabilities</th>\n",
              "      <th>DebtToIncome</th>\n",
              "      <th>FreeCash</th>\n",
              "      <th>MonthlyPaymentDay</th>\n",
              "      <th>ActiveScheduleFirstPaymentReached</th>\n",
              "      <th>PlannedPrincipalTillDate</th>\n",
              "      <th>PlannedInterestTillDate</th>\n",
              "      <th>LastPaymentOn</th>\n",
              "      <th>CurrentDebtDaysPrimary</th>\n",
              "      <th>DebtOccuredOn</th>\n",
              "      <th>CurrentDebtDaysSecondary</th>\n",
              "      <th>DebtOccuredOnForSecondary</th>\n",
              "      <th>ExpectedLoss</th>\n",
              "      <th>LossGivenDefault</th>\n",
              "      <th>ExpectedReturn</th>\n",
              "      <th>ProbabilityOfDefault</th>\n",
              "      <th>DefaultDate</th>\n",
              "      <th>PrincipalOverdueBySchedule</th>\n",
              "      <th>PlannedPrincipalPostDefault</th>\n",
              "      <th>PlannedInterestPostDefault</th>\n",
              "      <th>EAD1</th>\n",
              "      <th>EAD2</th>\n",
              "      <th>PrincipalRecovery</th>\n",
              "      <th>InterestRecovery</th>\n",
              "      <th>RecoveryStage</th>\n",
              "      <th>StageActiveSince</th>\n",
              "      <th>ModelVersion</th>\n",
              "      <th>Rating</th>\n",
              "      <th>EL_V0</th>\n",
              "      <th>Rating_V0</th>\n",
              "      <th>EL_V1</th>\n",
              "      <th>Rating_V1</th>\n",
              "      <th>Rating_V2</th>\n",
              "      <th>Status</th>\n",
              "      <th>Restructured</th>\n",
              "      <th>ActiveLateCategory</th>\n",
              "      <th>WorseLateCategory</th>\n",
              "      <th>CreditScoreEsMicroL</th>\n",
              "      <th>CreditScoreEsEquifaxRisk</th>\n",
              "      <th>CreditScoreFiAsiakasTietoRiskGrade</th>\n",
              "      <th>CreditScoreEeMini</th>\n",
              "      <th>PrincipalPaymentsMade</th>\n",
              "      <th>InterestAndPenaltyPaymentsMade</th>\n",
              "      <th>PrincipalWriteOffs</th>\n",
              "      <th>InterestAndPenaltyWriteOffs</th>\n",
              "      <th>PrincipalBalance</th>\n",
              "      <th>InterestAndPenaltyBalance</th>\n",
              "      <th>NoOfPreviousLoansBeforeLoan</th>\n",
              "      <th>AmountOfPreviousLoansBeforeLoan</th>\n",
              "      <th>PreviousRepaymentsBeforeLoan</th>\n",
              "      <th>PreviousEarlyRepaymentsBefoleLoan</th>\n",
              "      <th>PreviousEarlyRepaymentsCountBeforeLoan</th>\n",
              "      <th>GracePeriodStart</th>\n",
              "      <th>GracePeriodEnd</th>\n",
              "      <th>NextPaymentDate</th>\n",
              "      <th>NextPaymentNr</th>\n",
              "      <th>NrOfScheduledPayments</th>\n",
              "      <th>ReScheduledOn</th>\n",
              "      <th>PrincipalDebtServicingCost</th>\n",
              "      <th>InterestAndPenaltyDebtServicingCost</th>\n",
              "      <th>ActiveLateLastPaymentCategory</th>\n",
              "    </tr>\n",
              "  </thead>\n",
              "  <tbody>\n",
              "    <tr>\n",
              "      <th>0</th>\n",
              "      <td>2020-01-27</td>\n",
              "      <td>F0660C80-83F3-4A97-8DA0-9C250112D6EC</td>\n",
              "      <td>659</td>\n",
              "      <td>2009-06-11 16:40:39</td>\n",
              "      <td>2009-06-11 16:40:39</td>\n",
              "      <td>0</td>\n",
              "      <td>0</td>\n",
              "      <td>115.0410</td>\n",
              "      <td>KARU</td>\n",
              "      <td>True</td>\n",
              "      <td>2009-06-11 16:40:39</td>\n",
              "      <td>2009-06-16</td>\n",
              "      <td>2010-07-06</td>\n",
              "      <td>2009-07-27</td>\n",
              "      <td>2010-06-25</td>\n",
              "      <td>2010-06-25</td>\n",
              "      <td>17</td>\n",
              "      <td>5</td>\n",
              "      <td>2.0</td>\n",
              "      <td>1</td>\n",
              "      <td>61</td>\n",
              "      <td>1947-11-26</td>\n",
              "      <td>1.0</td>\n",
              "      <td>EE</td>\n",
              "      <td>319.5582</td>\n",
              "      <td>115.0408</td>\n",
              "      <td>30.0</td>\n",
              "      <td>12</td>\n",
              "      <td>NaN</td>\n",
              "      <td>HARJU</td>\n",
              "      <td>TALLINN</td>\n",
              "      <td>7</td>\n",
              "      <td>3.0</td>\n",
              "      <td>1.0</td>\n",
              "      <td>0</td>\n",
              "      <td>3.0</td>\n",
              "      <td>UpTo3Years</td>\n",
              "      <td>klienditeenindaja</td>\n",
              "      <td>MoreThan25Years</td>\n",
              "      <td>7.0</td>\n",
              "      <td>NaN</td>\n",
              "      <td>6000.0</td>\n",
              "      <td>0.0</td>\n",
              "      <td>0.0</td>\n",
              "      <td>0.0</td>\n",
              "      <td>0.0</td>\n",
              "      <td>0.0</td>\n",
              "      <td>4500.0</td>\n",
              "      <td>10500.0</td>\n",
              "      <td>0</td>\n",
              "      <td>0.0</td>\n",
              "      <td>0</td>\n",
              "      <td>0.0</td>\n",
              "      <td>0.0</td>\n",
              "      <td>25</td>\n",
              "      <td>True</td>\n",
              "      <td>1800.0000</td>\n",
              "      <td>319.0800</td>\n",
              "      <td>2010-07-06</td>\n",
              "      <td>NaN</td>\n",
              "      <td>NaN</td>\n",
              "      <td>NaN</td>\n",
              "      <td>NaN</td>\n",
              "      <td>NaN</td>\n",
              "      <td>NaN</td>\n",
              "      <td>NaN</td>\n",
              "      <td>NaN</td>\n",
              "      <td>NaN</td>\n",
              "      <td>NaN</td>\n",
              "      <td>NaN</td>\n",
              "      <td>NaN</td>\n",
              "      <td>NaN</td>\n",
              "      <td>NaN</td>\n",
              "      <td>NaN</td>\n",
              "      <td>NaN</td>\n",
              "      <td>NaN</td>\n",
              "      <td>NaN</td>\n",
              "      <td>NaN</td>\n",
              "      <td>NaN</td>\n",
              "      <td>NaN</td>\n",
              "      <td>NaN</td>\n",
              "      <td>NaN</td>\n",
              "      <td>NaN</td>\n",
              "      <td>NaN</td>\n",
              "      <td>Repaid</td>\n",
              "      <td>False</td>\n",
              "      <td>NaN</td>\n",
              "      <td>91-120</td>\n",
              "      <td>NaN</td>\n",
              "      <td>NaN</td>\n",
              "      <td>NaN</td>\n",
              "      <td>NaN</td>\n",
              "      <td>115.0408</td>\n",
              "      <td>20.4222</td>\n",
              "      <td>0.0</td>\n",
              "      <td>0.0</td>\n",
              "      <td>0.00</td>\n",
              "      <td>0.00</td>\n",
              "      <td>1</td>\n",
              "      <td>83.0852</td>\n",
              "      <td>0.0000</td>\n",
              "      <td>0.0</td>\n",
              "      <td>0</td>\n",
              "      <td>NaN</td>\n",
              "      <td>NaN</td>\n",
              "      <td>NaN</td>\n",
              "      <td>NaN</td>\n",
              "      <td>NaN</td>\n",
              "      <td>NaN</td>\n",
              "      <td>0.0</td>\n",
              "      <td>0.0</td>\n",
              "      <td>NaN</td>\n",
              "    </tr>\n",
              "    <tr>\n",
              "      <th>1</th>\n",
              "      <td>2020-01-27</td>\n",
              "      <td>978BB85B-1C69-4D51-8447-9C240104A3A2</td>\n",
              "      <td>654</td>\n",
              "      <td>2009-06-10 15:48:57</td>\n",
              "      <td>2009-06-10 15:48:57</td>\n",
              "      <td>0</td>\n",
              "      <td>0</td>\n",
              "      <td>140.6057</td>\n",
              "      <td>koort681</td>\n",
              "      <td>False</td>\n",
              "      <td>2009-06-10 15:48:57</td>\n",
              "      <td>2009-06-15</td>\n",
              "      <td>2009-07-07</td>\n",
              "      <td>2009-07-15</td>\n",
              "      <td>2009-07-15</td>\n",
              "      <td>2009-07-15</td>\n",
              "      <td>20</td>\n",
              "      <td>4</td>\n",
              "      <td>2.0</td>\n",
              "      <td>1</td>\n",
              "      <td>48</td>\n",
              "      <td>1960-11-05</td>\n",
              "      <td>1.0</td>\n",
              "      <td>EE</td>\n",
              "      <td>191.7349</td>\n",
              "      <td>140.6057</td>\n",
              "      <td>25.0</td>\n",
              "      <td>1</td>\n",
              "      <td>NaN</td>\n",
              "      <td>IDA-VIRU</td>\n",
              "      <td>KOHTLA-JARVE</td>\n",
              "      <td>7</td>\n",
              "      <td>5.0</td>\n",
              "      <td>4.0</td>\n",
              "      <td>0</td>\n",
              "      <td>3.0</td>\n",
              "      <td>MoreThan5Years</td>\n",
              "      <td>Õppealajuhataja lasteaias</td>\n",
              "      <td>MoreThan25Years</td>\n",
              "      <td>16.0</td>\n",
              "      <td>NaN</td>\n",
              "      <td>8300.0</td>\n",
              "      <td>0.0</td>\n",
              "      <td>0.0</td>\n",
              "      <td>0.0</td>\n",
              "      <td>0.0</td>\n",
              "      <td>0.0</td>\n",
              "      <td>2500.0</td>\n",
              "      <td>10800.0</td>\n",
              "      <td>0</td>\n",
              "      <td>0.0</td>\n",
              "      <td>0</td>\n",
              "      <td>0.0</td>\n",
              "      <td>0.0</td>\n",
              "      <td>15</td>\n",
              "      <td>True</td>\n",
              "      <td>2200.0000</td>\n",
              "      <td>45.8300</td>\n",
              "      <td>2009-07-07</td>\n",
              "      <td>NaN</td>\n",
              "      <td>NaN</td>\n",
              "      <td>NaN</td>\n",
              "      <td>NaN</td>\n",
              "      <td>NaN</td>\n",
              "      <td>NaN</td>\n",
              "      <td>NaN</td>\n",
              "      <td>NaN</td>\n",
              "      <td>NaN</td>\n",
              "      <td>NaN</td>\n",
              "      <td>NaN</td>\n",
              "      <td>NaN</td>\n",
              "      <td>NaN</td>\n",
              "      <td>NaN</td>\n",
              "      <td>NaN</td>\n",
              "      <td>NaN</td>\n",
              "      <td>NaN</td>\n",
              "      <td>NaN</td>\n",
              "      <td>NaN</td>\n",
              "      <td>NaN</td>\n",
              "      <td>NaN</td>\n",
              "      <td>NaN</td>\n",
              "      <td>NaN</td>\n",
              "      <td>NaN</td>\n",
              "      <td>NaN</td>\n",
              "      <td>Repaid</td>\n",
              "      <td>False</td>\n",
              "      <td>NaN</td>\n",
              "      <td>NaN</td>\n",
              "      <td>NaN</td>\n",
              "      <td>NaN</td>\n",
              "      <td>NaN</td>\n",
              "      <td>NaN</td>\n",
              "      <td>140.6057</td>\n",
              "      <td>2.0227</td>\n",
              "      <td>0.0</td>\n",
              "      <td>0.0</td>\n",
              "      <td>0.00</td>\n",
              "      <td>0.00</td>\n",
              "      <td>2</td>\n",
              "      <td>255.6467</td>\n",
              "      <td>258.6256</td>\n",
              "      <td>0.0</td>\n",
              "      <td>0</td>\n",
              "      <td>NaN</td>\n",
              "      <td>NaN</td>\n",
              "      <td>NaN</td>\n",
              "      <td>NaN</td>\n",
              "      <td>NaN</td>\n",
              "      <td>NaN</td>\n",
              "      <td>0.0</td>\n",
              "      <td>0.0</td>\n",
              "      <td>NaN</td>\n",
              "    </tr>\n",
              "    <tr>\n",
              "      <th>2</th>\n",
              "      <td>2020-01-27</td>\n",
              "      <td>EA44027E-7FA7-4BB2-846D-9C1F013C8A22</td>\n",
              "      <td>641</td>\n",
              "      <td>2009-06-05 19:12:29</td>\n",
              "      <td>2009-06-05 19:12:29</td>\n",
              "      <td>0</td>\n",
              "      <td>0</td>\n",
              "      <td>319.5580</td>\n",
              "      <td>0ie</td>\n",
              "      <td>True</td>\n",
              "      <td>2009-06-05 19:12:29</td>\n",
              "      <td>2009-06-15</td>\n",
              "      <td>NaN</td>\n",
              "      <td>2009-07-27</td>\n",
              "      <td>2011-02-25</td>\n",
              "      <td>2014-05-13</td>\n",
              "      <td>20</td>\n",
              "      <td>6</td>\n",
              "      <td>2.0</td>\n",
              "      <td>1</td>\n",
              "      <td>58</td>\n",
              "      <td>1950-11-13</td>\n",
              "      <td>1.0</td>\n",
              "      <td>EE</td>\n",
              "      <td>319.5582</td>\n",
              "      <td>319.5409</td>\n",
              "      <td>25.0</td>\n",
              "      <td>20</td>\n",
              "      <td>NaN</td>\n",
              "      <td>PÄRNU</td>\n",
              "      <td>PÄRNU</td>\n",
              "      <td>2</td>\n",
              "      <td>4.0</td>\n",
              "      <td>1.0</td>\n",
              "      <td>0</td>\n",
              "      <td>3.0</td>\n",
              "      <td>UpTo4Years</td>\n",
              "      <td>teenindaja</td>\n",
              "      <td>MoreThan25Years</td>\n",
              "      <td>9.0</td>\n",
              "      <td>NaN</td>\n",
              "      <td>5000.0</td>\n",
              "      <td>0.0</td>\n",
              "      <td>0.0</td>\n",
              "      <td>0.0</td>\n",
              "      <td>0.0</td>\n",
              "      <td>0.0</td>\n",
              "      <td>2000.0</td>\n",
              "      <td>7000.0</td>\n",
              "      <td>0</td>\n",
              "      <td>0.0</td>\n",
              "      <td>0</td>\n",
              "      <td>0.0</td>\n",
              "      <td>0.0</td>\n",
              "      <td>25</td>\n",
              "      <td>True</td>\n",
              "      <td>319.5409</td>\n",
              "      <td>197.2926</td>\n",
              "      <td>2012-10-01</td>\n",
              "      <td>2813.0</td>\n",
              "      <td>2012-05-14</td>\n",
              "      <td>2935.0</td>\n",
              "      <td>2012-01-13</td>\n",
              "      <td>NaN</td>\n",
              "      <td>NaN</td>\n",
              "      <td>NaN</td>\n",
              "      <td>NaN</td>\n",
              "      <td>2012-07-16</td>\n",
              "      <td>116.35</td>\n",
              "      <td>236.97</td>\n",
              "      <td>38.24</td>\n",
              "      <td>279.5049</td>\n",
              "      <td>270.7323</td>\n",
              "      <td>163.1549</td>\n",
              "      <td>50.99</td>\n",
              "      <td>NaN</td>\n",
              "      <td>2016-03-03 00:00:00</td>\n",
              "      <td>NaN</td>\n",
              "      <td>NaN</td>\n",
              "      <td>NaN</td>\n",
              "      <td>NaN</td>\n",
              "      <td>NaN</td>\n",
              "      <td>NaN</td>\n",
              "      <td>NaN</td>\n",
              "      <td>Late</td>\n",
              "      <td>True</td>\n",
              "      <td>180+</td>\n",
              "      <td>180+</td>\n",
              "      <td>NaN</td>\n",
              "      <td>NaN</td>\n",
              "      <td>NaN</td>\n",
              "      <td>NaN</td>\n",
              "      <td>203.1909</td>\n",
              "      <td>59.7626</td>\n",
              "      <td>0.0</td>\n",
              "      <td>0.0</td>\n",
              "      <td>116.35</td>\n",
              "      <td>414.07</td>\n",
              "      <td>0</td>\n",
              "      <td>0.0000</td>\n",
              "      <td>0.0000</td>\n",
              "      <td>0.0</td>\n",
              "      <td>0</td>\n",
              "      <td>NaN</td>\n",
              "      <td>NaN</td>\n",
              "      <td>NaN</td>\n",
              "      <td>NaN</td>\n",
              "      <td>NaN</td>\n",
              "      <td>NaN</td>\n",
              "      <td>0.0</td>\n",
              "      <td>0.0</td>\n",
              "      <td>180+</td>\n",
              "    </tr>\n",
              "    <tr>\n",
              "      <th>3</th>\n",
              "      <td>2020-01-27</td>\n",
              "      <td>CE67AD25-2951-4BEE-96BD-9C2700C61EF4</td>\n",
              "      <td>668</td>\n",
              "      <td>2009-06-13 12:01:20</td>\n",
              "      <td>2009-06-13 12:01:20</td>\n",
              "      <td>0</td>\n",
              "      <td>0</td>\n",
              "      <td>57.5205</td>\n",
              "      <td>Alyona</td>\n",
              "      <td>True</td>\n",
              "      <td>2009-06-13 12:01:20</td>\n",
              "      <td>2009-06-15</td>\n",
              "      <td>2010-09-15</td>\n",
              "      <td>2009-07-15</td>\n",
              "      <td>2010-09-15</td>\n",
              "      <td>2010-09-15</td>\n",
              "      <td>12</td>\n",
              "      <td>7</td>\n",
              "      <td>2.0</td>\n",
              "      <td>1</td>\n",
              "      <td>23</td>\n",
              "      <td>1986-03-29</td>\n",
              "      <td>1.0</td>\n",
              "      <td>EE</td>\n",
              "      <td>127.8233</td>\n",
              "      <td>57.5205</td>\n",
              "      <td>45.0</td>\n",
              "      <td>15</td>\n",
              "      <td>NaN</td>\n",
              "      <td>HARJU</td>\n",
              "      <td>PALDISKI</td>\n",
              "      <td>0</td>\n",
              "      <td>2.0</td>\n",
              "      <td>3.0</td>\n",
              "      <td>1</td>\n",
              "      <td>NaN</td>\n",
              "      <td>UpTo2Years</td>\n",
              "      <td>juhtmekoitja</td>\n",
              "      <td>2To5Years</td>\n",
              "      <td>1.0</td>\n",
              "      <td>NaN</td>\n",
              "      <td>11000.0</td>\n",
              "      <td>0.0</td>\n",
              "      <td>0.0</td>\n",
              "      <td>0.0</td>\n",
              "      <td>0.0</td>\n",
              "      <td>0.0</td>\n",
              "      <td>600.0</td>\n",
              "      <td>11600.0</td>\n",
              "      <td>0</td>\n",
              "      <td>0.0</td>\n",
              "      <td>0</td>\n",
              "      <td>0.0</td>\n",
              "      <td>0.0</td>\n",
              "      <td>15</td>\n",
              "      <td>True</td>\n",
              "      <td>900.0000</td>\n",
              "      <td>293.1000</td>\n",
              "      <td>2010-09-15</td>\n",
              "      <td>NaN</td>\n",
              "      <td>NaN</td>\n",
              "      <td>NaN</td>\n",
              "      <td>NaN</td>\n",
              "      <td>NaN</td>\n",
              "      <td>NaN</td>\n",
              "      <td>NaN</td>\n",
              "      <td>NaN</td>\n",
              "      <td>NaN</td>\n",
              "      <td>NaN</td>\n",
              "      <td>NaN</td>\n",
              "      <td>NaN</td>\n",
              "      <td>NaN</td>\n",
              "      <td>NaN</td>\n",
              "      <td>NaN</td>\n",
              "      <td>NaN</td>\n",
              "      <td>NaN</td>\n",
              "      <td>NaN</td>\n",
              "      <td>NaN</td>\n",
              "      <td>NaN</td>\n",
              "      <td>NaN</td>\n",
              "      <td>NaN</td>\n",
              "      <td>NaN</td>\n",
              "      <td>NaN</td>\n",
              "      <td>NaN</td>\n",
              "      <td>Repaid</td>\n",
              "      <td>False</td>\n",
              "      <td>NaN</td>\n",
              "      <td>31-60</td>\n",
              "      <td>NaN</td>\n",
              "      <td>NaN</td>\n",
              "      <td>NaN</td>\n",
              "      <td>NaN</td>\n",
              "      <td>57.5205</td>\n",
              "      <td>18.7323</td>\n",
              "      <td>0.0</td>\n",
              "      <td>0.0</td>\n",
              "      <td>0.00</td>\n",
              "      <td>0.00</td>\n",
              "      <td>1</td>\n",
              "      <td>134.2144</td>\n",
              "      <td>0.0000</td>\n",
              "      <td>0.0</td>\n",
              "      <td>0</td>\n",
              "      <td>NaN</td>\n",
              "      <td>NaN</td>\n",
              "      <td>NaN</td>\n",
              "      <td>NaN</td>\n",
              "      <td>NaN</td>\n",
              "      <td>NaN</td>\n",
              "      <td>0.0</td>\n",
              "      <td>0.0</td>\n",
              "      <td>NaN</td>\n",
              "    </tr>\n",
              "    <tr>\n",
              "      <th>4</th>\n",
              "      <td>2020-01-27</td>\n",
              "      <td>9408BF8C-B159-4D6A-9D61-9C2400A986E3</td>\n",
              "      <td>652</td>\n",
              "      <td>2009-06-10 10:17:13</td>\n",
              "      <td>2009-06-10 10:17:13</td>\n",
              "      <td>0</td>\n",
              "      <td>0</td>\n",
              "      <td>319.5582</td>\n",
              "      <td>Kai</td>\n",
              "      <td>True</td>\n",
              "      <td>2009-06-10 10:17:13</td>\n",
              "      <td>2009-06-14</td>\n",
              "      <td>2016-07-28</td>\n",
              "      <td>2009-07-27</td>\n",
              "      <td>2010-06-25</td>\n",
              "      <td>2010-06-25</td>\n",
              "      <td>10</td>\n",
              "      <td>4</td>\n",
              "      <td>2.0</td>\n",
              "      <td>1</td>\n",
              "      <td>25</td>\n",
              "      <td>1983-09-30</td>\n",
              "      <td>1.0</td>\n",
              "      <td>EE</td>\n",
              "      <td>319.5582</td>\n",
              "      <td>319.5436</td>\n",
              "      <td>30.0</td>\n",
              "      <td>12</td>\n",
              "      <td>NaN</td>\n",
              "      <td>TARTU</td>\n",
              "      <td>TARTU</td>\n",
              "      <td>6</td>\n",
              "      <td>4.0</td>\n",
              "      <td>2.0</td>\n",
              "      <td>0</td>\n",
              "      <td>3.0</td>\n",
              "      <td>UpTo2Years</td>\n",
              "      <td>klienditeenindaja</td>\n",
              "      <td>5To10Years</td>\n",
              "      <td>7.0</td>\n",
              "      <td>NaN</td>\n",
              "      <td>6800.0</td>\n",
              "      <td>0.0</td>\n",
              "      <td>0.0</td>\n",
              "      <td>0.0</td>\n",
              "      <td>0.0</td>\n",
              "      <td>0.0</td>\n",
              "      <td>0.0</td>\n",
              "      <td>6800.0</td>\n",
              "      <td>0</td>\n",
              "      <td>0.0</td>\n",
              "      <td>0</td>\n",
              "      <td>0.0</td>\n",
              "      <td>0.0</td>\n",
              "      <td>25</td>\n",
              "      <td>True</td>\n",
              "      <td>5000.0000</td>\n",
              "      <td>833.8100</td>\n",
              "      <td>2015-07-16</td>\n",
              "      <td>NaN</td>\n",
              "      <td>NaN</td>\n",
              "      <td>3835.0</td>\n",
              "      <td>2009-07-27</td>\n",
              "      <td>NaN</td>\n",
              "      <td>NaN</td>\n",
              "      <td>NaN</td>\n",
              "      <td>NaN</td>\n",
              "      <td>2009-09-28</td>\n",
              "      <td>NaN</td>\n",
              "      <td>247.76</td>\n",
              "      <td>29.84</td>\n",
              "      <td>319.5436</td>\n",
              "      <td>319.5436</td>\n",
              "      <td>319.5436</td>\n",
              "      <td>220.42</td>\n",
              "      <td>NaN</td>\n",
              "      <td>NaN</td>\n",
              "      <td>NaN</td>\n",
              "      <td>NaN</td>\n",
              "      <td>NaN</td>\n",
              "      <td>NaN</td>\n",
              "      <td>NaN</td>\n",
              "      <td>NaN</td>\n",
              "      <td>NaN</td>\n",
              "      <td>Repaid</td>\n",
              "      <td>False</td>\n",
              "      <td>NaN</td>\n",
              "      <td>180+</td>\n",
              "      <td>NaN</td>\n",
              "      <td>NaN</td>\n",
              "      <td>NaN</td>\n",
              "      <td>NaN</td>\n",
              "      <td>319.5436</td>\n",
              "      <td>220.4200</td>\n",
              "      <td>0.0</td>\n",
              "      <td>2.4</td>\n",
              "      <td>0.00</td>\n",
              "      <td>0.00</td>\n",
              "      <td>1</td>\n",
              "      <td>146.9966</td>\n",
              "      <td>0.0000</td>\n",
              "      <td>0.0</td>\n",
              "      <td>0</td>\n",
              "      <td>NaN</td>\n",
              "      <td>NaN</td>\n",
              "      <td>NaN</td>\n",
              "      <td>NaN</td>\n",
              "      <td>NaN</td>\n",
              "      <td>NaN</td>\n",
              "      <td>0.0</td>\n",
              "      <td>0.0</td>\n",
              "      <td>180+</td>\n",
              "    </tr>\n",
              "  </tbody>\n",
              "</table>\n",
              "</div>\n",
              "      <button class=\"colab-df-convert\" onclick=\"convertToInteractive('df-1c3d8c9c-1132-4d7c-b80b-a550d299a3b6')\"\n",
              "              title=\"Convert this dataframe to an interactive table.\"\n",
              "              style=\"display:none;\">\n",
              "        \n",
              "  <svg xmlns=\"http://www.w3.org/2000/svg\" height=\"24px\"viewBox=\"0 0 24 24\"\n",
              "       width=\"24px\">\n",
              "    <path d=\"M0 0h24v24H0V0z\" fill=\"none\"/>\n",
              "    <path d=\"M18.56 5.44l.94 2.06.94-2.06 2.06-.94-2.06-.94-.94-2.06-.94 2.06-2.06.94zm-11 1L8.5 8.5l.94-2.06 2.06-.94-2.06-.94L8.5 2.5l-.94 2.06-2.06.94zm10 10l.94 2.06.94-2.06 2.06-.94-2.06-.94-.94-2.06-.94 2.06-2.06.94z\"/><path d=\"M17.41 7.96l-1.37-1.37c-.4-.4-.92-.59-1.43-.59-.52 0-1.04.2-1.43.59L10.3 9.45l-7.72 7.72c-.78.78-.78 2.05 0 2.83L4 21.41c.39.39.9.59 1.41.59.51 0 1.02-.2 1.41-.59l7.78-7.78 2.81-2.81c.8-.78.8-2.07 0-2.86zM5.41 20L4 18.59l7.72-7.72 1.47 1.35L5.41 20z\"/>\n",
              "  </svg>\n",
              "      </button>\n",
              "      \n",
              "  <style>\n",
              "    .colab-df-container {\n",
              "      display:flex;\n",
              "      flex-wrap:wrap;\n",
              "      gap: 12px;\n",
              "    }\n",
              "\n",
              "    .colab-df-convert {\n",
              "      background-color: #E8F0FE;\n",
              "      border: none;\n",
              "      border-radius: 50%;\n",
              "      cursor: pointer;\n",
              "      display: none;\n",
              "      fill: #1967D2;\n",
              "      height: 32px;\n",
              "      padding: 0 0 0 0;\n",
              "      width: 32px;\n",
              "    }\n",
              "\n",
              "    .colab-df-convert:hover {\n",
              "      background-color: #E2EBFA;\n",
              "      box-shadow: 0px 1px 2px rgba(60, 64, 67, 0.3), 0px 1px 3px 1px rgba(60, 64, 67, 0.15);\n",
              "      fill: #174EA6;\n",
              "    }\n",
              "\n",
              "    [theme=dark] .colab-df-convert {\n",
              "      background-color: #3B4455;\n",
              "      fill: #D2E3FC;\n",
              "    }\n",
              "\n",
              "    [theme=dark] .colab-df-convert:hover {\n",
              "      background-color: #434B5C;\n",
              "      box-shadow: 0px 1px 3px 1px rgba(0, 0, 0, 0.15);\n",
              "      filter: drop-shadow(0px 1px 2px rgba(0, 0, 0, 0.3));\n",
              "      fill: #FFFFFF;\n",
              "    }\n",
              "  </style>\n",
              "\n",
              "      <script>\n",
              "        const buttonEl =\n",
              "          document.querySelector('#df-1c3d8c9c-1132-4d7c-b80b-a550d299a3b6 button.colab-df-convert');\n",
              "        buttonEl.style.display =\n",
              "          google.colab.kernel.accessAllowed ? 'block' : 'none';\n",
              "\n",
              "        async function convertToInteractive(key) {\n",
              "          const element = document.querySelector('#df-1c3d8c9c-1132-4d7c-b80b-a550d299a3b6');\n",
              "          const dataTable =\n",
              "            await google.colab.kernel.invokeFunction('convertToInteractive',\n",
              "                                                     [key], {});\n",
              "          if (!dataTable) return;\n",
              "\n",
              "          const docLinkHtml = 'Like what you see? Visit the ' +\n",
              "            '<a target=\"_blank\" href=https://colab.research.google.com/notebooks/data_table.ipynb>data table notebook</a>'\n",
              "            + ' to learn more about interactive tables.';\n",
              "          element.innerHTML = '';\n",
              "          dataTable['output_type'] = 'display_data';\n",
              "          await google.colab.output.renderOutput(dataTable, element);\n",
              "          const docLink = document.createElement('div');\n",
              "          docLink.innerHTML = docLinkHtml;\n",
              "          element.appendChild(docLink);\n",
              "        }\n",
              "      </script>\n",
              "    </div>\n",
              "  </div>\n",
              "  "
            ]
          },
          "metadata": {},
          "execution_count": 5
        }
      ]
    },
    {
      "cell_type": "code",
      "source": [],
      "metadata": {
        "id": "6TJwmZQCrJ0R"
      },
      "execution_count": null,
      "outputs": []
    },
    {
      "cell_type": "markdown",
      "source": [
        "Data Preprocessing"
      ],
      "metadata": {
        "id": "X6q8b0-xrPlV"
      }
    },
    {
      "cell_type": "code",
      "source": [],
      "metadata": {
        "id": "g1VXZyBQrQj6"
      },
      "execution_count": null,
      "outputs": []
    },
    {
      "cell_type": "markdown",
      "source": [
        "Percentage of Missing Values"
      ],
      "metadata": {
        "id": "BCZUfZncrS_J"
      }
    },
    {
      "cell_type": "code",
      "source": [
        "# how many total missing values do we have?\n",
        "total_cells = np.product(df.shape)\n",
        "total_missing = df.isnull().sum().sum()\n",
        "\n",
        "# percent of data that is missing\n",
        "percent_missing = (total_missing/total_cells) * 100\n",
        "print(percent_missing)"
      ],
      "metadata": {
        "colab": {
          "base_uri": "https://localhost:8080/"
        },
        "id": "7jIex1mwrUh9",
        "outputId": "2f08780d-70bc-4e19-f6f5-bd030982620c"
      },
      "execution_count": null,
      "outputs": [
        {
          "output_type": "stream",
          "name": "stdout",
          "text": [
            "24.374988717249494\n"
          ]
        }
      ]
    },
    {
      "cell_type": "code",
      "source": [
        "# Finding columns with a mean null values percentage above 40%\n",
        "DropColList = df.columns[(df.isnull().mean()*100) >= 40].tolist()"
      ],
      "metadata": {
        "id": "rDETH6BDrXWd"
      },
      "execution_count": null,
      "outputs": []
    },
    {
      "cell_type": "code",
      "source": [
        "# Displying columns with a mean null values percentage above 40%\n",
        "df[DropColList].isnull().mean()*100"
      ],
      "metadata": {
        "colab": {
          "base_uri": "https://localhost:8080/"
        },
        "id": "MYfQbdqAreV0",
        "outputId": "6f5fa83d-89c3-4a30-85c7-0bf44f7d3773"
      },
      "execution_count": null,
      "outputs": [
        {
          "output_type": "execute_result",
          "data": {
            "text/plain": [
              "ContractEndDate                        56.155922\n",
              "NrOfDependants                         73.537304\n",
              "EmploymentPosition                     73.173070\n",
              "WorkExperience                         72.851950\n",
              "PlannedPrincipalTillDate               59.518765\n",
              "CurrentDebtDaysPrimary                 63.934914\n",
              "DebtOccuredOn                          63.934914\n",
              "CurrentDebtDaysSecondary               61.160791\n",
              "DebtOccuredOnForSecondary              61.160791\n",
              "DefaultDate                            68.099815\n",
              "PlannedPrincipalPostDefault            68.099815\n",
              "PlannedInterestPostDefault             68.099815\n",
              "EAD1                                   68.099815\n",
              "EAD2                                   68.099815\n",
              "PrincipalRecovery                      68.099815\n",
              "InterestRecovery                       68.099815\n",
              "RecoveryStage                          42.584127\n",
              "EL_V0                                  96.603706\n",
              "Rating_V0                              96.603706\n",
              "EL_V1                                  90.394636\n",
              "Rating_V1                              90.394636\n",
              "Rating_V2                              81.310349\n",
              "ActiveLateCategory                     63.934914\n",
              "CreditScoreEsEquifaxRisk               90.917200\n",
              "CreditScoreFiAsiakasTietoRiskGrade     75.828260\n",
              "CreditScoreEeMini                      46.686588\n",
              "PrincipalWriteOffs                     56.047395\n",
              "InterestAndPenaltyWriteOffs            56.047395\n",
              "PreviousEarlyRepaymentsBefoleLoan      56.867293\n",
              "GracePeriodStart                       86.034238\n",
              "GracePeriodEnd                         86.034238\n",
              "NextPaymentDate                        51.204573\n",
              "ReScheduledOn                          70.027280\n",
              "PrincipalDebtServicingCost             56.047395\n",
              "InterestAndPenaltyDebtServicingCost    56.047395\n",
              "ActiveLateLastPaymentCategory          61.160791\n",
              "dtype: float64"
            ]
          },
          "metadata": {},
          "execution_count": 8
        }
      ]
    },
    {
      "cell_type": "code",
      "source": [
        "# Number of these columns\n",
        "len(df.columns[(df.isnull().mean()*100) >= 40])"
      ],
      "metadata": {
        "colab": {
          "base_uri": "https://localhost:8080/"
        },
        "id": "XHBqLQSFrj80",
        "outputId": "2c653c87-5a41-4571-ce3f-1531c4265518"
      },
      "execution_count": null,
      "outputs": [
        {
          "output_type": "execute_result",
          "data": {
            "text/plain": [
              "36"
            ]
          },
          "metadata": {},
          "execution_count": 9
        }
      ]
    },
    {
      "cell_type": "code",
      "source": [
        "# Now we can remove columns having more than 40% missing values\n",
        "df.drop(columns= DropColList, axis= 1, inplace=True)"
      ],
      "metadata": {
        "id": "2LZg6JekrvZX"
      },
      "execution_count": null,
      "outputs": []
    },
    {
      "cell_type": "markdown",
      "source": [],
      "metadata": {
        "id": "20eWTGPor2Dq"
      }
    },
    {
      "cell_type": "code",
      "source": [
        "df.shape"
      ],
      "metadata": {
        "colab": {
          "base_uri": "https://localhost:8080/"
        },
        "id": "aSfhcNsirx9z",
        "outputId": "a9b37a36-2cbb-4815-961b-e3c2062db2a8"
      },
      "execution_count": null,
      "outputs": [
        {
          "output_type": "execute_result",
          "data": {
            "text/plain": [
              "(134529, 76)"
            ]
          },
          "metadata": {},
          "execution_count": 11
        }
      ]
    },
    {
      "cell_type": "code",
      "source": [
        "df['NrOfScheduledPayments'].head()"
      ],
      "metadata": {
        "colab": {
          "base_uri": "https://localhost:8080/"
        },
        "id": "EabTTvKCr0B8",
        "outputId": "16be807e-cf87-46d1-a6a8-8352307a14c1"
      },
      "execution_count": null,
      "outputs": [
        {
          "output_type": "execute_result",
          "data": {
            "text/plain": [
              "0   NaN\n",
              "1   NaN\n",
              "2   NaN\n",
              "3   NaN\n",
              "4   NaN\n",
              "Name: NrOfScheduledPayments, dtype: float64"
            ]
          },
          "metadata": {},
          "execution_count": 12
        }
      ]
    },
    {
      "cell_type": "code",
      "source": [
        "df.drop(columns=['LoanId', 'LoanNumber', 'UserName', 'DateOfBirth', 'County', 'City'], inplace = True)"
      ],
      "metadata": {
        "id": "lUjzICxWr3YC"
      },
      "execution_count": null,
      "outputs": []
    },
    {
      "cell_type": "code",
      "source": [
        "df.drop(columns=['IncomeFromPrincipalEmployer', 'IncomeFromPension', 'IncomeFromFamilyAllowance', 'IncomeFromSocialWelfare',\n",
        "                 'IncomeFromLeavePay', 'IncomeFromChildSupport', 'IncomeOther'], inplace = True)"
      ],
      "metadata": {
        "id": "_BChEcnTr6xa"
      },
      "execution_count": null,
      "outputs": []
    },
    {
      "cell_type": "code",
      "source": [
        "df.drop(columns=['ReportAsOfEOD', 'ListedOnUTC', 'BiddingStartedOn', 'LoanApplicationStartedDate', 'LastPaymentOn',\n",
        "                 'MonthlyPaymentDay','LoanDate', 'FirstPaymentDate', 'MaturityDate_Original','MaturityDate_Last'],\n",
        "        inplace = True)"
      ],
      "metadata": {
        "id": "N3ZTS711r9RN"
      },
      "execution_count": null,
      "outputs": []
    },
    {
      "cell_type": "code",
      "source": [
        "df.drop(columns=['NextPaymentNr', 'NrOfScheduledPayments', 'ApplicationSignedHour', 'ApplicationSignedWeekday',\n",
        "                 'ActiveScheduleFirstPaymentReached', 'PlannedInterestTillDate', 'ExpectedLoss','LossGivenDefault',\n",
        "                'ExpectedReturn', 'ProbabilityOfDefault', 'PrincipalOverdueBySchedule', 'StageActiveSince',\n",
        "                'ModelVersion', 'WorseLateCategory'], inplace = True)"
      ],
      "metadata": {
        "id": "d-X8db17r_cO"
      },
      "execution_count": null,
      "outputs": []
    },
    {
      "cell_type": "code",
      "source": [
        "df.shape"
      ],
      "metadata": {
        "colab": {
          "base_uri": "https://localhost:8080/"
        },
        "id": "PiyBHsGMsCUL",
        "outputId": "2eeb9320-22ba-472c-aaea-7a01beed5437"
      },
      "execution_count": null,
      "outputs": [
        {
          "output_type": "execute_result",
          "data": {
            "text/plain": [
              "(134529, 39)"
            ]
          },
          "metadata": {},
          "execution_count": 17
        }
      ]
    },
    {
      "cell_type": "markdown",
      "source": [
        "Creating Target Variable"
      ],
      "metadata": {
        "id": "GkNcr73ogYff"
      }
    },
    {
      "cell_type": "code",
      "source": [
        "df[\"DefaultDate\"] = pd.read_csv('/content/drive/MyDrive/Bondora_raw.csv',low_memory=False).DefaultDate"
      ],
      "metadata": {
        "id": "isrXdBSRsEmj"
      },
      "execution_count": null,
      "outputs": []
    },
    {
      "cell_type": "code",
      "source": [
        "df.Status.value_counts()"
      ],
      "metadata": {
        "colab": {
          "base_uri": "https://localhost:8080/"
        },
        "id": "m-fCj2QYgZES",
        "outputId": "aa7e64c6-b8ba-4d91-f83f-1bda74378cba"
      },
      "execution_count": null,
      "outputs": [
        {
          "output_type": "execute_result",
          "data": {
            "text/plain": [
              "Current    57135\n",
              "Late       45772\n",
              "Repaid     31622\n",
              "Name: Status, dtype: int64"
            ]
          },
          "metadata": {},
          "execution_count": 19
        }
      ]
    },
    {
      "cell_type": "code",
      "source": [
        "df = df[df.Status != 'Current']"
      ],
      "metadata": {
        "id": "KDKOtfCdgohB"
      },
      "execution_count": null,
      "outputs": []
    },
    {
      "cell_type": "code",
      "source": [
        "df.Status.value_counts()"
      ],
      "metadata": {
        "colab": {
          "base_uri": "https://localhost:8080/"
        },
        "id": "S5JEaxCygqwk",
        "outputId": "6e34e3b9-44e5-41e5-b1db-6c93665f9c09"
      },
      "execution_count": null,
      "outputs": [
        {
          "output_type": "execute_result",
          "data": {
            "text/plain": [
              "Late      45772\n",
              "Repaid    31622\n",
              "Name: Status, dtype: int64"
            ]
          },
          "metadata": {},
          "execution_count": 21
        }
      ]
    },
    {
      "cell_type": "code",
      "source": [
        "df.shape"
      ],
      "metadata": {
        "colab": {
          "base_uri": "https://localhost:8080/"
        },
        "id": "jZOhfd9Cgs9q",
        "outputId": "a2a6927d-b8e9-4cfd-a316-d27a637c595a"
      },
      "execution_count": null,
      "outputs": [
        {
          "output_type": "execute_result",
          "data": {
            "text/plain": [
              "(77394, 40)"
            ]
          },
          "metadata": {},
          "execution_count": 22
        }
      ]
    },
    {
      "cell_type": "code",
      "source": [
        "df.DefaultDate.fillna('NoDefault', inplace = True)"
      ],
      "metadata": {
        "id": "3NdzmdJOgvLG"
      },
      "execution_count": null,
      "outputs": []
    },
    {
      "cell_type": "code",
      "source": [
        "# Replace any Date by Defalut\n",
        "for i in range(len(df.DefaultDate.values)):\n",
        "    if df.DefaultDate.values[i] != 'NoDefault':\n",
        "        df.DefaultDate.values[i] = 'Default'"
      ],
      "metadata": {
        "id": "b66FhJKsgxOU"
      },
      "execution_count": null,
      "outputs": []
    },
    {
      "cell_type": "code",
      "source": [
        "df.DefaultDate.value_counts()"
      ],
      "metadata": {
        "colab": {
          "base_uri": "https://localhost:8080/"
        },
        "id": "lf5V_6xXgzLg",
        "outputId": "11bcd819-0231-4128-e695-4e2f4c7c890a"
      },
      "execution_count": null,
      "outputs": [
        {
          "output_type": "execute_result",
          "data": {
            "text/plain": [
              "Default      42794\n",
              "NoDefault    34600\n",
              "Name: DefaultDate, dtype: int64"
            ]
          },
          "metadata": {},
          "execution_count": 25
        }
      ]
    },
    {
      "cell_type": "code",
      "source": [
        "# let's drop the status columns\n",
        "df.drop(columns=['Status'], inplace = True)"
      ],
      "metadata": {
        "id": "0Jbanu1Hg1gy"
      },
      "execution_count": null,
      "outputs": []
    },
    {
      "cell_type": "code",
      "source": [
        "df.head()"
      ],
      "metadata": {
        "colab": {
          "base_uri": "https://localhost:8080/",
          "height": 270
        },
        "id": "r9YzKbVYg3-Y",
        "outputId": "3ed13896-876a-48c6-e5bf-b49c0aeb5c3b"
      },
      "execution_count": null,
      "outputs": [
        {
          "output_type": "execute_result",
          "data": {
            "text/plain": [
              "   BidsPortfolioManager  BidsApi  BidsManual  NewCreditCustomer  \\\n",
              "0                     0        0    115.0410               True   \n",
              "1                     0        0    140.6057              False   \n",
              "2                     0        0    319.5580               True   \n",
              "3                     0        0     57.5205               True   \n",
              "4                     0        0    319.5582               True   \n",
              "\n",
              "   VerificationType  LanguageCode  Age  Gender Country  AppliedAmount  \\\n",
              "0               2.0             1   61     1.0      EE       319.5582   \n",
              "1               2.0             1   48     1.0      EE       191.7349   \n",
              "2               2.0             1   58     1.0      EE       319.5582   \n",
              "3               2.0             1   23     1.0      EE       127.8233   \n",
              "4               2.0             1   25     1.0      EE       319.5582   \n",
              "\n",
              "     Amount  Interest  LoanDuration  MonthlyPayment  UseOfLoan  Education  \\\n",
              "0  115.0408      30.0            12             NaN          7        3.0   \n",
              "1  140.6057      25.0             1             NaN          7        5.0   \n",
              "2  319.5409      25.0            20             NaN          2        4.0   \n",
              "3   57.5205      45.0            15             NaN          0        2.0   \n",
              "4  319.5436      30.0            12             NaN          6        4.0   \n",
              "\n",
              "   MaritalStatus  EmploymentStatus EmploymentDurationCurrentEmployer  \\\n",
              "0            1.0               3.0                        UpTo3Years   \n",
              "1            4.0               3.0                    MoreThan5Years   \n",
              "2            1.0               3.0                        UpTo4Years   \n",
              "3            3.0               NaN                        UpTo2Years   \n",
              "4            2.0               3.0                        UpTo2Years   \n",
              "\n",
              "   OccupationArea  HomeOwnershipType  IncomeTotal  ExistingLiabilities  \\\n",
              "0             7.0                NaN      10500.0                    0   \n",
              "1            16.0                NaN      10800.0                    0   \n",
              "2             9.0                NaN       7000.0                    0   \n",
              "3             1.0                NaN      11600.0                    0   \n",
              "4             7.0                NaN       6800.0                    0   \n",
              "\n",
              "   LiabilitiesTotal  RefinanceLiabilities  DebtToIncome  FreeCash Rating  \\\n",
              "0               0.0                     0           0.0       0.0    NaN   \n",
              "1               0.0                     0           0.0       0.0    NaN   \n",
              "2               0.0                     0           0.0       0.0    NaN   \n",
              "3               0.0                     0           0.0       0.0    NaN   \n",
              "4               0.0                     0           0.0       0.0    NaN   \n",
              "\n",
              "   Restructured CreditScoreEsMicroL  PrincipalPaymentsMade  \\\n",
              "0         False                 NaN               115.0408   \n",
              "1         False                 NaN               140.6057   \n",
              "2          True                 NaN               203.1909   \n",
              "3         False                 NaN                57.5205   \n",
              "4         False                 NaN               319.5436   \n",
              "\n",
              "   InterestAndPenaltyPaymentsMade  PrincipalBalance  \\\n",
              "0                         20.4222              0.00   \n",
              "1                          2.0227              0.00   \n",
              "2                         59.7626            116.35   \n",
              "3                         18.7323              0.00   \n",
              "4                        220.4200              0.00   \n",
              "\n",
              "   InterestAndPenaltyBalance  NoOfPreviousLoansBeforeLoan  \\\n",
              "0                       0.00                            1   \n",
              "1                       0.00                            2   \n",
              "2                     414.07                            0   \n",
              "3                       0.00                            1   \n",
              "4                       0.00                            1   \n",
              "\n",
              "   AmountOfPreviousLoansBeforeLoan  PreviousRepaymentsBeforeLoan  \\\n",
              "0                          83.0852                        0.0000   \n",
              "1                         255.6467                      258.6256   \n",
              "2                           0.0000                        0.0000   \n",
              "3                         134.2144                        0.0000   \n",
              "4                         146.9966                        0.0000   \n",
              "\n",
              "   PreviousEarlyRepaymentsCountBeforeLoan DefaultDate  \n",
              "0                                       0   NoDefault  \n",
              "1                                       0   NoDefault  \n",
              "2                                       0     Default  \n",
              "3                                       0   NoDefault  \n",
              "4                                       0     Default  "
            ],
            "text/html": [
              "\n",
              "  <div id=\"df-69cd369f-4ba3-4ea0-94ca-2ebc5b5327f6\">\n",
              "    <div class=\"colab-df-container\">\n",
              "      <div>\n",
              "<style scoped>\n",
              "    .dataframe tbody tr th:only-of-type {\n",
              "        vertical-align: middle;\n",
              "    }\n",
              "\n",
              "    .dataframe tbody tr th {\n",
              "        vertical-align: top;\n",
              "    }\n",
              "\n",
              "    .dataframe thead th {\n",
              "        text-align: right;\n",
              "    }\n",
              "</style>\n",
              "<table border=\"1\" class=\"dataframe\">\n",
              "  <thead>\n",
              "    <tr style=\"text-align: right;\">\n",
              "      <th></th>\n",
              "      <th>BidsPortfolioManager</th>\n",
              "      <th>BidsApi</th>\n",
              "      <th>BidsManual</th>\n",
              "      <th>NewCreditCustomer</th>\n",
              "      <th>VerificationType</th>\n",
              "      <th>LanguageCode</th>\n",
              "      <th>Age</th>\n",
              "      <th>Gender</th>\n",
              "      <th>Country</th>\n",
              "      <th>AppliedAmount</th>\n",
              "      <th>Amount</th>\n",
              "      <th>Interest</th>\n",
              "      <th>LoanDuration</th>\n",
              "      <th>MonthlyPayment</th>\n",
              "      <th>UseOfLoan</th>\n",
              "      <th>Education</th>\n",
              "      <th>MaritalStatus</th>\n",
              "      <th>EmploymentStatus</th>\n",
              "      <th>EmploymentDurationCurrentEmployer</th>\n",
              "      <th>OccupationArea</th>\n",
              "      <th>HomeOwnershipType</th>\n",
              "      <th>IncomeTotal</th>\n",
              "      <th>ExistingLiabilities</th>\n",
              "      <th>LiabilitiesTotal</th>\n",
              "      <th>RefinanceLiabilities</th>\n",
              "      <th>DebtToIncome</th>\n",
              "      <th>FreeCash</th>\n",
              "      <th>Rating</th>\n",
              "      <th>Restructured</th>\n",
              "      <th>CreditScoreEsMicroL</th>\n",
              "      <th>PrincipalPaymentsMade</th>\n",
              "      <th>InterestAndPenaltyPaymentsMade</th>\n",
              "      <th>PrincipalBalance</th>\n",
              "      <th>InterestAndPenaltyBalance</th>\n",
              "      <th>NoOfPreviousLoansBeforeLoan</th>\n",
              "      <th>AmountOfPreviousLoansBeforeLoan</th>\n",
              "      <th>PreviousRepaymentsBeforeLoan</th>\n",
              "      <th>PreviousEarlyRepaymentsCountBeforeLoan</th>\n",
              "      <th>DefaultDate</th>\n",
              "    </tr>\n",
              "  </thead>\n",
              "  <tbody>\n",
              "    <tr>\n",
              "      <th>0</th>\n",
              "      <td>0</td>\n",
              "      <td>0</td>\n",
              "      <td>115.0410</td>\n",
              "      <td>True</td>\n",
              "      <td>2.0</td>\n",
              "      <td>1</td>\n",
              "      <td>61</td>\n",
              "      <td>1.0</td>\n",
              "      <td>EE</td>\n",
              "      <td>319.5582</td>\n",
              "      <td>115.0408</td>\n",
              "      <td>30.0</td>\n",
              "      <td>12</td>\n",
              "      <td>NaN</td>\n",
              "      <td>7</td>\n",
              "      <td>3.0</td>\n",
              "      <td>1.0</td>\n",
              "      <td>3.0</td>\n",
              "      <td>UpTo3Years</td>\n",
              "      <td>7.0</td>\n",
              "      <td>NaN</td>\n",
              "      <td>10500.0</td>\n",
              "      <td>0</td>\n",
              "      <td>0.0</td>\n",
              "      <td>0</td>\n",
              "      <td>0.0</td>\n",
              "      <td>0.0</td>\n",
              "      <td>NaN</td>\n",
              "      <td>False</td>\n",
              "      <td>NaN</td>\n",
              "      <td>115.0408</td>\n",
              "      <td>20.4222</td>\n",
              "      <td>0.00</td>\n",
              "      <td>0.00</td>\n",
              "      <td>1</td>\n",
              "      <td>83.0852</td>\n",
              "      <td>0.0000</td>\n",
              "      <td>0</td>\n",
              "      <td>NoDefault</td>\n",
              "    </tr>\n",
              "    <tr>\n",
              "      <th>1</th>\n",
              "      <td>0</td>\n",
              "      <td>0</td>\n",
              "      <td>140.6057</td>\n",
              "      <td>False</td>\n",
              "      <td>2.0</td>\n",
              "      <td>1</td>\n",
              "      <td>48</td>\n",
              "      <td>1.0</td>\n",
              "      <td>EE</td>\n",
              "      <td>191.7349</td>\n",
              "      <td>140.6057</td>\n",
              "      <td>25.0</td>\n",
              "      <td>1</td>\n",
              "      <td>NaN</td>\n",
              "      <td>7</td>\n",
              "      <td>5.0</td>\n",
              "      <td>4.0</td>\n",
              "      <td>3.0</td>\n",
              "      <td>MoreThan5Years</td>\n",
              "      <td>16.0</td>\n",
              "      <td>NaN</td>\n",
              "      <td>10800.0</td>\n",
              "      <td>0</td>\n",
              "      <td>0.0</td>\n",
              "      <td>0</td>\n",
              "      <td>0.0</td>\n",
              "      <td>0.0</td>\n",
              "      <td>NaN</td>\n",
              "      <td>False</td>\n",
              "      <td>NaN</td>\n",
              "      <td>140.6057</td>\n",
              "      <td>2.0227</td>\n",
              "      <td>0.00</td>\n",
              "      <td>0.00</td>\n",
              "      <td>2</td>\n",
              "      <td>255.6467</td>\n",
              "      <td>258.6256</td>\n",
              "      <td>0</td>\n",
              "      <td>NoDefault</td>\n",
              "    </tr>\n",
              "    <tr>\n",
              "      <th>2</th>\n",
              "      <td>0</td>\n",
              "      <td>0</td>\n",
              "      <td>319.5580</td>\n",
              "      <td>True</td>\n",
              "      <td>2.0</td>\n",
              "      <td>1</td>\n",
              "      <td>58</td>\n",
              "      <td>1.0</td>\n",
              "      <td>EE</td>\n",
              "      <td>319.5582</td>\n",
              "      <td>319.5409</td>\n",
              "      <td>25.0</td>\n",
              "      <td>20</td>\n",
              "      <td>NaN</td>\n",
              "      <td>2</td>\n",
              "      <td>4.0</td>\n",
              "      <td>1.0</td>\n",
              "      <td>3.0</td>\n",
              "      <td>UpTo4Years</td>\n",
              "      <td>9.0</td>\n",
              "      <td>NaN</td>\n",
              "      <td>7000.0</td>\n",
              "      <td>0</td>\n",
              "      <td>0.0</td>\n",
              "      <td>0</td>\n",
              "      <td>0.0</td>\n",
              "      <td>0.0</td>\n",
              "      <td>NaN</td>\n",
              "      <td>True</td>\n",
              "      <td>NaN</td>\n",
              "      <td>203.1909</td>\n",
              "      <td>59.7626</td>\n",
              "      <td>116.35</td>\n",
              "      <td>414.07</td>\n",
              "      <td>0</td>\n",
              "      <td>0.0000</td>\n",
              "      <td>0.0000</td>\n",
              "      <td>0</td>\n",
              "      <td>Default</td>\n",
              "    </tr>\n",
              "    <tr>\n",
              "      <th>3</th>\n",
              "      <td>0</td>\n",
              "      <td>0</td>\n",
              "      <td>57.5205</td>\n",
              "      <td>True</td>\n",
              "      <td>2.0</td>\n",
              "      <td>1</td>\n",
              "      <td>23</td>\n",
              "      <td>1.0</td>\n",
              "      <td>EE</td>\n",
              "      <td>127.8233</td>\n",
              "      <td>57.5205</td>\n",
              "      <td>45.0</td>\n",
              "      <td>15</td>\n",
              "      <td>NaN</td>\n",
              "      <td>0</td>\n",
              "      <td>2.0</td>\n",
              "      <td>3.0</td>\n",
              "      <td>NaN</td>\n",
              "      <td>UpTo2Years</td>\n",
              "      <td>1.0</td>\n",
              "      <td>NaN</td>\n",
              "      <td>11600.0</td>\n",
              "      <td>0</td>\n",
              "      <td>0.0</td>\n",
              "      <td>0</td>\n",
              "      <td>0.0</td>\n",
              "      <td>0.0</td>\n",
              "      <td>NaN</td>\n",
              "      <td>False</td>\n",
              "      <td>NaN</td>\n",
              "      <td>57.5205</td>\n",
              "      <td>18.7323</td>\n",
              "      <td>0.00</td>\n",
              "      <td>0.00</td>\n",
              "      <td>1</td>\n",
              "      <td>134.2144</td>\n",
              "      <td>0.0000</td>\n",
              "      <td>0</td>\n",
              "      <td>NoDefault</td>\n",
              "    </tr>\n",
              "    <tr>\n",
              "      <th>4</th>\n",
              "      <td>0</td>\n",
              "      <td>0</td>\n",
              "      <td>319.5582</td>\n",
              "      <td>True</td>\n",
              "      <td>2.0</td>\n",
              "      <td>1</td>\n",
              "      <td>25</td>\n",
              "      <td>1.0</td>\n",
              "      <td>EE</td>\n",
              "      <td>319.5582</td>\n",
              "      <td>319.5436</td>\n",
              "      <td>30.0</td>\n",
              "      <td>12</td>\n",
              "      <td>NaN</td>\n",
              "      <td>6</td>\n",
              "      <td>4.0</td>\n",
              "      <td>2.0</td>\n",
              "      <td>3.0</td>\n",
              "      <td>UpTo2Years</td>\n",
              "      <td>7.0</td>\n",
              "      <td>NaN</td>\n",
              "      <td>6800.0</td>\n",
              "      <td>0</td>\n",
              "      <td>0.0</td>\n",
              "      <td>0</td>\n",
              "      <td>0.0</td>\n",
              "      <td>0.0</td>\n",
              "      <td>NaN</td>\n",
              "      <td>False</td>\n",
              "      <td>NaN</td>\n",
              "      <td>319.5436</td>\n",
              "      <td>220.4200</td>\n",
              "      <td>0.00</td>\n",
              "      <td>0.00</td>\n",
              "      <td>1</td>\n",
              "      <td>146.9966</td>\n",
              "      <td>0.0000</td>\n",
              "      <td>0</td>\n",
              "      <td>Default</td>\n",
              "    </tr>\n",
              "  </tbody>\n",
              "</table>\n",
              "</div>\n",
              "      <button class=\"colab-df-convert\" onclick=\"convertToInteractive('df-69cd369f-4ba3-4ea0-94ca-2ebc5b5327f6')\"\n",
              "              title=\"Convert this dataframe to an interactive table.\"\n",
              "              style=\"display:none;\">\n",
              "        \n",
              "  <svg xmlns=\"http://www.w3.org/2000/svg\" height=\"24px\"viewBox=\"0 0 24 24\"\n",
              "       width=\"24px\">\n",
              "    <path d=\"M0 0h24v24H0V0z\" fill=\"none\"/>\n",
              "    <path d=\"M18.56 5.44l.94 2.06.94-2.06 2.06-.94-2.06-.94-.94-2.06-.94 2.06-2.06.94zm-11 1L8.5 8.5l.94-2.06 2.06-.94-2.06-.94L8.5 2.5l-.94 2.06-2.06.94zm10 10l.94 2.06.94-2.06 2.06-.94-2.06-.94-.94-2.06-.94 2.06-2.06.94z\"/><path d=\"M17.41 7.96l-1.37-1.37c-.4-.4-.92-.59-1.43-.59-.52 0-1.04.2-1.43.59L10.3 9.45l-7.72 7.72c-.78.78-.78 2.05 0 2.83L4 21.41c.39.39.9.59 1.41.59.51 0 1.02-.2 1.41-.59l7.78-7.78 2.81-2.81c.8-.78.8-2.07 0-2.86zM5.41 20L4 18.59l7.72-7.72 1.47 1.35L5.41 20z\"/>\n",
              "  </svg>\n",
              "      </button>\n",
              "      \n",
              "  <style>\n",
              "    .colab-df-container {\n",
              "      display:flex;\n",
              "      flex-wrap:wrap;\n",
              "      gap: 12px;\n",
              "    }\n",
              "\n",
              "    .colab-df-convert {\n",
              "      background-color: #E8F0FE;\n",
              "      border: none;\n",
              "      border-radius: 50%;\n",
              "      cursor: pointer;\n",
              "      display: none;\n",
              "      fill: #1967D2;\n",
              "      height: 32px;\n",
              "      padding: 0 0 0 0;\n",
              "      width: 32px;\n",
              "    }\n",
              "\n",
              "    .colab-df-convert:hover {\n",
              "      background-color: #E2EBFA;\n",
              "      box-shadow: 0px 1px 2px rgba(60, 64, 67, 0.3), 0px 1px 3px 1px rgba(60, 64, 67, 0.15);\n",
              "      fill: #174EA6;\n",
              "    }\n",
              "\n",
              "    [theme=dark] .colab-df-convert {\n",
              "      background-color: #3B4455;\n",
              "      fill: #D2E3FC;\n",
              "    }\n",
              "\n",
              "    [theme=dark] .colab-df-convert:hover {\n",
              "      background-color: #434B5C;\n",
              "      box-shadow: 0px 1px 3px 1px rgba(0, 0, 0, 0.15);\n",
              "      filter: drop-shadow(0px 1px 2px rgba(0, 0, 0, 0.3));\n",
              "      fill: #FFFFFF;\n",
              "    }\n",
              "  </style>\n",
              "\n",
              "      <script>\n",
              "        const buttonEl =\n",
              "          document.querySelector('#df-69cd369f-4ba3-4ea0-94ca-2ebc5b5327f6 button.colab-df-convert');\n",
              "        buttonEl.style.display =\n",
              "          google.colab.kernel.accessAllowed ? 'block' : 'none';\n",
              "\n",
              "        async function convertToInteractive(key) {\n",
              "          const element = document.querySelector('#df-69cd369f-4ba3-4ea0-94ca-2ebc5b5327f6');\n",
              "          const dataTable =\n",
              "            await google.colab.kernel.invokeFunction('convertToInteractive',\n",
              "                                                     [key], {});\n",
              "          if (!dataTable) return;\n",
              "\n",
              "          const docLinkHtml = 'Like what you see? Visit the ' +\n",
              "            '<a target=\"_blank\" href=https://colab.research.google.com/notebooks/data_table.ipynb>data table notebook</a>'\n",
              "            + ' to learn more about interactive tables.';\n",
              "          element.innerHTML = '';\n",
              "          dataTable['output_type'] = 'display_data';\n",
              "          await google.colab.output.renderOutput(dataTable, element);\n",
              "          const docLink = document.createElement('div');\n",
              "          docLink.innerHTML = docLinkHtml;\n",
              "          element.appendChild(docLink);\n",
              "        }\n",
              "      </script>\n",
              "    </div>\n",
              "  </div>\n",
              "  "
            ]
          },
          "metadata": {},
          "execution_count": 27
        }
      ]
    },
    {
      "cell_type": "code",
      "source": [
        "# Rename DefaultDate column to LoanStatus\n",
        "df.rename(columns={'DefaultDate':'LoanStatus'}, inplace = True)"
      ],
      "metadata": {
        "id": "Y_qHxoX1g5-w"
      },
      "execution_count": null,
      "outputs": []
    },
    {
      "cell_type": "code",
      "source": [
        "df.LoanStatus.value_counts()"
      ],
      "metadata": {
        "id": "SFz5_ZSyg9Ow",
        "outputId": "29451127-7528-4713-fb8f-5b9f382bf982",
        "colab": {
          "base_uri": "https://localhost:8080/"
        }
      },
      "execution_count": null,
      "outputs": [
        {
          "output_type": "execute_result",
          "data": {
            "text/plain": [
              "Default      42794\n",
              "NoDefault    34600\n",
              "Name: LoanStatus, dtype: int64"
            ]
          },
          "metadata": {},
          "execution_count": 29
        }
      ]
    },
    {
      "cell_type": "code",
      "source": [
        "df.dtypes"
      ],
      "metadata": {
        "id": "RJMMB0sGg_kK",
        "colab": {
          "base_uri": "https://localhost:8080/"
        },
        "outputId": "a6df5fc6-1831-4946-af9a-3ca979c7e350"
      },
      "execution_count": 30,
      "outputs": [
        {
          "output_type": "execute_result",
          "data": {
            "text/plain": [
              "BidsPortfolioManager                        int64\n",
              "BidsApi                                     int64\n",
              "BidsManual                                float64\n",
              "NewCreditCustomer                            bool\n",
              "VerificationType                          float64\n",
              "LanguageCode                                int64\n",
              "Age                                         int64\n",
              "Gender                                    float64\n",
              "Country                                    object\n",
              "AppliedAmount                             float64\n",
              "Amount                                    float64\n",
              "Interest                                  float64\n",
              "LoanDuration                                int64\n",
              "MonthlyPayment                            float64\n",
              "UseOfLoan                                   int64\n",
              "Education                                 float64\n",
              "MaritalStatus                             float64\n",
              "EmploymentStatus                          float64\n",
              "EmploymentDurationCurrentEmployer          object\n",
              "OccupationArea                            float64\n",
              "HomeOwnershipType                         float64\n",
              "IncomeTotal                               float64\n",
              "ExistingLiabilities                         int64\n",
              "LiabilitiesTotal                          float64\n",
              "RefinanceLiabilities                        int64\n",
              "DebtToIncome                              float64\n",
              "FreeCash                                  float64\n",
              "Rating                                     object\n",
              "Restructured                                 bool\n",
              "CreditScoreEsMicroL                        object\n",
              "PrincipalPaymentsMade                     float64\n",
              "InterestAndPenaltyPaymentsMade            float64\n",
              "PrincipalBalance                          float64\n",
              "InterestAndPenaltyBalance                 float64\n",
              "NoOfPreviousLoansBeforeLoan                 int64\n",
              "AmountOfPreviousLoansBeforeLoan           float64\n",
              "PreviousRepaymentsBeforeLoan              float64\n",
              "PreviousEarlyRepaymentsCountBeforeLoan      int64\n",
              "LoanStatus                                 object\n",
              "dtype: object"
            ]
          },
          "metadata": {},
          "execution_count": 30
        }
      ]
    },
    {
      "cell_type": "code",
      "source": [
        "df.VerificationType.fillna('Not Set', inplace = True)"
      ],
      "metadata": {
        "id": "PcK53_ViilcQ"
      },
      "execution_count": 31,
      "outputs": []
    },
    {
      "cell_type": "code",
      "source": [
        "# convert from float type to string first\n",
        "df['VerificationType'] = df['VerificationType'].astype(object)\n",
        "\n",
        "for i in range(len(df.VerificationType.values)):\n",
        "    df.VerificationType.values[i] = str(df.VerificationType.values[i])"
      ],
      "metadata": {
        "id": "Yi30Yqq6ipGF"
      },
      "execution_count": 32,
      "outputs": []
    },
    {
      "cell_type": "code",
      "source": [
        "df.VerificationType.dtype, type(df.VerificationType.values[0])"
      ],
      "metadata": {
        "colab": {
          "base_uri": "https://localhost:8080/"
        },
        "id": "Agwxgv9mirTz",
        "outputId": "0aa0d8c8-0d85-4be0-e122-b9ae6e87f602"
      },
      "execution_count": 33,
      "outputs": [
        {
          "output_type": "execute_result",
          "data": {
            "text/plain": [
              "(dtype('O'), str)"
            ]
          },
          "metadata": {},
          "execution_count": 33
        }
      ]
    },
    {
      "cell_type": "code",
      "source": [
        "df.VerificationType = df.VerificationType.str.replace('0.0', 'Not Set')\n",
        "df.VerificationType = df.VerificationType.str.replace('1.0', 'Income unverified')\n",
        "df.VerificationType = df.VerificationType.str.replace('2.0', 'Income unverified,cross-referenced by phone')\n",
        "df.VerificationType = df.VerificationType.str.replace('3.0', 'Income verified')\n",
        "df.VerificationType = df.VerificationType.str.replace('4.0', 'Income and expenses verified')"
      ],
      "metadata": {
        "id": "pyVpmzM_itWA"
      },
      "execution_count": 34,
      "outputs": []
    },
    {
      "cell_type": "code",
      "source": [
        "df.VerificationType.value_counts()"
      ],
      "metadata": {
        "colab": {
          "base_uri": "https://localhost:8080/"
        },
        "id": "r_ANAzfRiwTe",
        "outputId": "b4a1bc67-5ad2-498b-dbcf-7b5371c149dd"
      },
      "execution_count": 35,
      "outputs": [
        {
          "output_type": "execute_result",
          "data": {
            "text/plain": [
              "Income and expenses verified                   41428\n",
              "Income unverified                              25626\n",
              "Income verified                                 8460\n",
              "Income unverified,cross-referenced by phone     1827\n",
              "Not Set                                           53\n",
              "Name: VerificationType, dtype: int64"
            ]
          },
          "metadata": {},
          "execution_count": 35
        }
      ]
    },
    {
      "cell_type": "code",
      "source": [
        "df.Gender.value_counts()"
      ],
      "metadata": {
        "colab": {
          "base_uri": "https://localhost:8080/"
        },
        "id": "5pPQlPQ6iyjw",
        "outputId": "b5c0bcd1-1644-45ff-f5d6-f6fe1e2576f6"
      },
      "execution_count": 36,
      "outputs": [
        {
          "output_type": "execute_result",
          "data": {
            "text/plain": [
              "0.0    50697\n",
              "1.0    20927\n",
              "2.0     5725\n",
              "Name: Gender, dtype: int64"
            ]
          },
          "metadata": {},
          "execution_count": 36
        }
      ]
    },
    {
      "cell_type": "code",
      "source": [
        "# Replace Null values by Undefined\n",
        "df.Gender.fillna('Undefined', inplace = True)"
      ],
      "metadata": {
        "id": "p06Fki4Pi0qS"
      },
      "execution_count": 37,
      "outputs": []
    },
    {
      "cell_type": "code",
      "source": [
        "# Convert from int types to string first\n",
        "df['Gender'] = df['Gender'].astype(object)\n",
        "\n",
        "for i in range(len(df.Gender.values)):\n",
        "    df.Gender.values[i] = str(df.Gender.values[i])"
      ],
      "metadata": {
        "id": "tnUnqbmKi28a"
      },
      "execution_count": 38,
      "outputs": []
    },
    {
      "cell_type": "code",
      "source": [
        "df.Gender.dtype, type(df.Gender.values[0])"
      ],
      "metadata": {
        "colab": {
          "base_uri": "https://localhost:8080/"
        },
        "id": "nowZU_6Di48S",
        "outputId": "e0db1693-8b91-4140-c265-1edbd90b7307"
      },
      "execution_count": 39,
      "outputs": [
        {
          "output_type": "execute_result",
          "data": {
            "text/plain": [
              "(dtype('O'), str)"
            ]
          },
          "metadata": {},
          "execution_count": 39
        }
      ]
    },
    {
      "cell_type": "code",
      "source": [
        "df.Gender = df.Gender.str.replace('0.0', 'Male')\n",
        "df.Gender = df.Gender.str.replace('1.0', 'Female')\n",
        "df.Gender = df.Gender.str.replace('2.0', 'Undefined')"
      ],
      "metadata": {
        "id": "Qb3z_IiFi6wr"
      },
      "execution_count": 40,
      "outputs": []
    },
    {
      "cell_type": "code",
      "source": [
        "df.Gender.value_counts()"
      ],
      "metadata": {
        "colab": {
          "base_uri": "https://localhost:8080/"
        },
        "id": "vDi_zryci9EW",
        "outputId": "75f7573f-8729-4f7e-9e31-18d9f54c7167"
      },
      "execution_count": 41,
      "outputs": [
        {
          "output_type": "execute_result",
          "data": {
            "text/plain": [
              "Male         50697\n",
              "Female       20927\n",
              "Undefined     5770\n",
              "Name: Gender, dtype: int64"
            ]
          },
          "metadata": {},
          "execution_count": 41
        }
      ]
    },
    {
      "cell_type": "markdown",
      "source": [
        "### Exploratory Data Analysis (EDA):"
      ],
      "metadata": {
        "id": "yTACopsbjPEY"
      }
    },
    {
      "cell_type": "code",
      "source": [
        "df.head()"
      ],
      "metadata": {
        "colab": {
          "base_uri": "https://localhost:8080/",
          "height": 530
        },
        "id": "I_hbVJfui-93",
        "outputId": "281af3d6-3568-4e20-9d61-01913eb4ca16"
      },
      "execution_count": 42,
      "outputs": [
        {
          "output_type": "execute_result",
          "data": {
            "text/plain": [
              "   BidsPortfolioManager  BidsApi  BidsManual  NewCreditCustomer  \\\n",
              "0                     0        0    115.0410               True   \n",
              "1                     0        0    140.6057              False   \n",
              "2                     0        0    319.5580               True   \n",
              "3                     0        0     57.5205               True   \n",
              "4                     0        0    319.5582               True   \n",
              "\n",
              "                              VerificationType  LanguageCode  Age  Gender  \\\n",
              "0  Income unverified,cross-referenced by phone             1   61  Female   \n",
              "1  Income unverified,cross-referenced by phone             1   48  Female   \n",
              "2  Income unverified,cross-referenced by phone             1   58  Female   \n",
              "3  Income unverified,cross-referenced by phone             1   23  Female   \n",
              "4  Income unverified,cross-referenced by phone             1   25  Female   \n",
              "\n",
              "  Country  AppliedAmount    Amount  Interest  LoanDuration  MonthlyPayment  \\\n",
              "0      EE       319.5582  115.0408      30.0            12             NaN   \n",
              "1      EE       191.7349  140.6057      25.0             1             NaN   \n",
              "2      EE       319.5582  319.5409      25.0            20             NaN   \n",
              "3      EE       127.8233   57.5205      45.0            15             NaN   \n",
              "4      EE       319.5582  319.5436      30.0            12             NaN   \n",
              "\n",
              "   UseOfLoan  Education  MaritalStatus  EmploymentStatus  \\\n",
              "0          7        3.0            1.0               3.0   \n",
              "1          7        5.0            4.0               3.0   \n",
              "2          2        4.0            1.0               3.0   \n",
              "3          0        2.0            3.0               NaN   \n",
              "4          6        4.0            2.0               3.0   \n",
              "\n",
              "  EmploymentDurationCurrentEmployer  OccupationArea  HomeOwnershipType  \\\n",
              "0                        UpTo3Years             7.0                NaN   \n",
              "1                    MoreThan5Years            16.0                NaN   \n",
              "2                        UpTo4Years             9.0                NaN   \n",
              "3                        UpTo2Years             1.0                NaN   \n",
              "4                        UpTo2Years             7.0                NaN   \n",
              "\n",
              "   IncomeTotal  ExistingLiabilities  LiabilitiesTotal  RefinanceLiabilities  \\\n",
              "0      10500.0                    0               0.0                     0   \n",
              "1      10800.0                    0               0.0                     0   \n",
              "2       7000.0                    0               0.0                     0   \n",
              "3      11600.0                    0               0.0                     0   \n",
              "4       6800.0                    0               0.0                     0   \n",
              "\n",
              "   DebtToIncome  FreeCash Rating  Restructured CreditScoreEsMicroL  \\\n",
              "0           0.0       0.0    NaN         False                 NaN   \n",
              "1           0.0       0.0    NaN         False                 NaN   \n",
              "2           0.0       0.0    NaN          True                 NaN   \n",
              "3           0.0       0.0    NaN         False                 NaN   \n",
              "4           0.0       0.0    NaN         False                 NaN   \n",
              "\n",
              "   PrincipalPaymentsMade  InterestAndPenaltyPaymentsMade  PrincipalBalance  \\\n",
              "0               115.0408                         20.4222              0.00   \n",
              "1               140.6057                          2.0227              0.00   \n",
              "2               203.1909                         59.7626            116.35   \n",
              "3                57.5205                         18.7323              0.00   \n",
              "4               319.5436                        220.4200              0.00   \n",
              "\n",
              "   InterestAndPenaltyBalance  NoOfPreviousLoansBeforeLoan  \\\n",
              "0                       0.00                            1   \n",
              "1                       0.00                            2   \n",
              "2                     414.07                            0   \n",
              "3                       0.00                            1   \n",
              "4                       0.00                            1   \n",
              "\n",
              "   AmountOfPreviousLoansBeforeLoan  PreviousRepaymentsBeforeLoan  \\\n",
              "0                          83.0852                        0.0000   \n",
              "1                         255.6467                      258.6256   \n",
              "2                           0.0000                        0.0000   \n",
              "3                         134.2144                        0.0000   \n",
              "4                         146.9966                        0.0000   \n",
              "\n",
              "   PreviousEarlyRepaymentsCountBeforeLoan LoanStatus  \n",
              "0                                       0  NoDefault  \n",
              "1                                       0  NoDefault  \n",
              "2                                       0    Default  \n",
              "3                                       0  NoDefault  \n",
              "4                                       0    Default  "
            ],
            "text/html": [
              "\n",
              "  <div id=\"df-e7c86238-ac84-4e99-8bfd-9b47464fb967\">\n",
              "    <div class=\"colab-df-container\">\n",
              "      <div>\n",
              "<style scoped>\n",
              "    .dataframe tbody tr th:only-of-type {\n",
              "        vertical-align: middle;\n",
              "    }\n",
              "\n",
              "    .dataframe tbody tr th {\n",
              "        vertical-align: top;\n",
              "    }\n",
              "\n",
              "    .dataframe thead th {\n",
              "        text-align: right;\n",
              "    }\n",
              "</style>\n",
              "<table border=\"1\" class=\"dataframe\">\n",
              "  <thead>\n",
              "    <tr style=\"text-align: right;\">\n",
              "      <th></th>\n",
              "      <th>BidsPortfolioManager</th>\n",
              "      <th>BidsApi</th>\n",
              "      <th>BidsManual</th>\n",
              "      <th>NewCreditCustomer</th>\n",
              "      <th>VerificationType</th>\n",
              "      <th>LanguageCode</th>\n",
              "      <th>Age</th>\n",
              "      <th>Gender</th>\n",
              "      <th>Country</th>\n",
              "      <th>AppliedAmount</th>\n",
              "      <th>Amount</th>\n",
              "      <th>Interest</th>\n",
              "      <th>LoanDuration</th>\n",
              "      <th>MonthlyPayment</th>\n",
              "      <th>UseOfLoan</th>\n",
              "      <th>Education</th>\n",
              "      <th>MaritalStatus</th>\n",
              "      <th>EmploymentStatus</th>\n",
              "      <th>EmploymentDurationCurrentEmployer</th>\n",
              "      <th>OccupationArea</th>\n",
              "      <th>HomeOwnershipType</th>\n",
              "      <th>IncomeTotal</th>\n",
              "      <th>ExistingLiabilities</th>\n",
              "      <th>LiabilitiesTotal</th>\n",
              "      <th>RefinanceLiabilities</th>\n",
              "      <th>DebtToIncome</th>\n",
              "      <th>FreeCash</th>\n",
              "      <th>Rating</th>\n",
              "      <th>Restructured</th>\n",
              "      <th>CreditScoreEsMicroL</th>\n",
              "      <th>PrincipalPaymentsMade</th>\n",
              "      <th>InterestAndPenaltyPaymentsMade</th>\n",
              "      <th>PrincipalBalance</th>\n",
              "      <th>InterestAndPenaltyBalance</th>\n",
              "      <th>NoOfPreviousLoansBeforeLoan</th>\n",
              "      <th>AmountOfPreviousLoansBeforeLoan</th>\n",
              "      <th>PreviousRepaymentsBeforeLoan</th>\n",
              "      <th>PreviousEarlyRepaymentsCountBeforeLoan</th>\n",
              "      <th>LoanStatus</th>\n",
              "    </tr>\n",
              "  </thead>\n",
              "  <tbody>\n",
              "    <tr>\n",
              "      <th>0</th>\n",
              "      <td>0</td>\n",
              "      <td>0</td>\n",
              "      <td>115.0410</td>\n",
              "      <td>True</td>\n",
              "      <td>Income unverified,cross-referenced by phone</td>\n",
              "      <td>1</td>\n",
              "      <td>61</td>\n",
              "      <td>Female</td>\n",
              "      <td>EE</td>\n",
              "      <td>319.5582</td>\n",
              "      <td>115.0408</td>\n",
              "      <td>30.0</td>\n",
              "      <td>12</td>\n",
              "      <td>NaN</td>\n",
              "      <td>7</td>\n",
              "      <td>3.0</td>\n",
              "      <td>1.0</td>\n",
              "      <td>3.0</td>\n",
              "      <td>UpTo3Years</td>\n",
              "      <td>7.0</td>\n",
              "      <td>NaN</td>\n",
              "      <td>10500.0</td>\n",
              "      <td>0</td>\n",
              "      <td>0.0</td>\n",
              "      <td>0</td>\n",
              "      <td>0.0</td>\n",
              "      <td>0.0</td>\n",
              "      <td>NaN</td>\n",
              "      <td>False</td>\n",
              "      <td>NaN</td>\n",
              "      <td>115.0408</td>\n",
              "      <td>20.4222</td>\n",
              "      <td>0.00</td>\n",
              "      <td>0.00</td>\n",
              "      <td>1</td>\n",
              "      <td>83.0852</td>\n",
              "      <td>0.0000</td>\n",
              "      <td>0</td>\n",
              "      <td>NoDefault</td>\n",
              "    </tr>\n",
              "    <tr>\n",
              "      <th>1</th>\n",
              "      <td>0</td>\n",
              "      <td>0</td>\n",
              "      <td>140.6057</td>\n",
              "      <td>False</td>\n",
              "      <td>Income unverified,cross-referenced by phone</td>\n",
              "      <td>1</td>\n",
              "      <td>48</td>\n",
              "      <td>Female</td>\n",
              "      <td>EE</td>\n",
              "      <td>191.7349</td>\n",
              "      <td>140.6057</td>\n",
              "      <td>25.0</td>\n",
              "      <td>1</td>\n",
              "      <td>NaN</td>\n",
              "      <td>7</td>\n",
              "      <td>5.0</td>\n",
              "      <td>4.0</td>\n",
              "      <td>3.0</td>\n",
              "      <td>MoreThan5Years</td>\n",
              "      <td>16.0</td>\n",
              "      <td>NaN</td>\n",
              "      <td>10800.0</td>\n",
              "      <td>0</td>\n",
              "      <td>0.0</td>\n",
              "      <td>0</td>\n",
              "      <td>0.0</td>\n",
              "      <td>0.0</td>\n",
              "      <td>NaN</td>\n",
              "      <td>False</td>\n",
              "      <td>NaN</td>\n",
              "      <td>140.6057</td>\n",
              "      <td>2.0227</td>\n",
              "      <td>0.00</td>\n",
              "      <td>0.00</td>\n",
              "      <td>2</td>\n",
              "      <td>255.6467</td>\n",
              "      <td>258.6256</td>\n",
              "      <td>0</td>\n",
              "      <td>NoDefault</td>\n",
              "    </tr>\n",
              "    <tr>\n",
              "      <th>2</th>\n",
              "      <td>0</td>\n",
              "      <td>0</td>\n",
              "      <td>319.5580</td>\n",
              "      <td>True</td>\n",
              "      <td>Income unverified,cross-referenced by phone</td>\n",
              "      <td>1</td>\n",
              "      <td>58</td>\n",
              "      <td>Female</td>\n",
              "      <td>EE</td>\n",
              "      <td>319.5582</td>\n",
              "      <td>319.5409</td>\n",
              "      <td>25.0</td>\n",
              "      <td>20</td>\n",
              "      <td>NaN</td>\n",
              "      <td>2</td>\n",
              "      <td>4.0</td>\n",
              "      <td>1.0</td>\n",
              "      <td>3.0</td>\n",
              "      <td>UpTo4Years</td>\n",
              "      <td>9.0</td>\n",
              "      <td>NaN</td>\n",
              "      <td>7000.0</td>\n",
              "      <td>0</td>\n",
              "      <td>0.0</td>\n",
              "      <td>0</td>\n",
              "      <td>0.0</td>\n",
              "      <td>0.0</td>\n",
              "      <td>NaN</td>\n",
              "      <td>True</td>\n",
              "      <td>NaN</td>\n",
              "      <td>203.1909</td>\n",
              "      <td>59.7626</td>\n",
              "      <td>116.35</td>\n",
              "      <td>414.07</td>\n",
              "      <td>0</td>\n",
              "      <td>0.0000</td>\n",
              "      <td>0.0000</td>\n",
              "      <td>0</td>\n",
              "      <td>Default</td>\n",
              "    </tr>\n",
              "    <tr>\n",
              "      <th>3</th>\n",
              "      <td>0</td>\n",
              "      <td>0</td>\n",
              "      <td>57.5205</td>\n",
              "      <td>True</td>\n",
              "      <td>Income unverified,cross-referenced by phone</td>\n",
              "      <td>1</td>\n",
              "      <td>23</td>\n",
              "      <td>Female</td>\n",
              "      <td>EE</td>\n",
              "      <td>127.8233</td>\n",
              "      <td>57.5205</td>\n",
              "      <td>45.0</td>\n",
              "      <td>15</td>\n",
              "      <td>NaN</td>\n",
              "      <td>0</td>\n",
              "      <td>2.0</td>\n",
              "      <td>3.0</td>\n",
              "      <td>NaN</td>\n",
              "      <td>UpTo2Years</td>\n",
              "      <td>1.0</td>\n",
              "      <td>NaN</td>\n",
              "      <td>11600.0</td>\n",
              "      <td>0</td>\n",
              "      <td>0.0</td>\n",
              "      <td>0</td>\n",
              "      <td>0.0</td>\n",
              "      <td>0.0</td>\n",
              "      <td>NaN</td>\n",
              "      <td>False</td>\n",
              "      <td>NaN</td>\n",
              "      <td>57.5205</td>\n",
              "      <td>18.7323</td>\n",
              "      <td>0.00</td>\n",
              "      <td>0.00</td>\n",
              "      <td>1</td>\n",
              "      <td>134.2144</td>\n",
              "      <td>0.0000</td>\n",
              "      <td>0</td>\n",
              "      <td>NoDefault</td>\n",
              "    </tr>\n",
              "    <tr>\n",
              "      <th>4</th>\n",
              "      <td>0</td>\n",
              "      <td>0</td>\n",
              "      <td>319.5582</td>\n",
              "      <td>True</td>\n",
              "      <td>Income unverified,cross-referenced by phone</td>\n",
              "      <td>1</td>\n",
              "      <td>25</td>\n",
              "      <td>Female</td>\n",
              "      <td>EE</td>\n",
              "      <td>319.5582</td>\n",
              "      <td>319.5436</td>\n",
              "      <td>30.0</td>\n",
              "      <td>12</td>\n",
              "      <td>NaN</td>\n",
              "      <td>6</td>\n",
              "      <td>4.0</td>\n",
              "      <td>2.0</td>\n",
              "      <td>3.0</td>\n",
              "      <td>UpTo2Years</td>\n",
              "      <td>7.0</td>\n",
              "      <td>NaN</td>\n",
              "      <td>6800.0</td>\n",
              "      <td>0</td>\n",
              "      <td>0.0</td>\n",
              "      <td>0</td>\n",
              "      <td>0.0</td>\n",
              "      <td>0.0</td>\n",
              "      <td>NaN</td>\n",
              "      <td>False</td>\n",
              "      <td>NaN</td>\n",
              "      <td>319.5436</td>\n",
              "      <td>220.4200</td>\n",
              "      <td>0.00</td>\n",
              "      <td>0.00</td>\n",
              "      <td>1</td>\n",
              "      <td>146.9966</td>\n",
              "      <td>0.0000</td>\n",
              "      <td>0</td>\n",
              "      <td>Default</td>\n",
              "    </tr>\n",
              "  </tbody>\n",
              "</table>\n",
              "</div>\n",
              "      <button class=\"colab-df-convert\" onclick=\"convertToInteractive('df-e7c86238-ac84-4e99-8bfd-9b47464fb967')\"\n",
              "              title=\"Convert this dataframe to an interactive table.\"\n",
              "              style=\"display:none;\">\n",
              "        \n",
              "  <svg xmlns=\"http://www.w3.org/2000/svg\" height=\"24px\"viewBox=\"0 0 24 24\"\n",
              "       width=\"24px\">\n",
              "    <path d=\"M0 0h24v24H0V0z\" fill=\"none\"/>\n",
              "    <path d=\"M18.56 5.44l.94 2.06.94-2.06 2.06-.94-2.06-.94-.94-2.06-.94 2.06-2.06.94zm-11 1L8.5 8.5l.94-2.06 2.06-.94-2.06-.94L8.5 2.5l-.94 2.06-2.06.94zm10 10l.94 2.06.94-2.06 2.06-.94-2.06-.94-.94-2.06-.94 2.06-2.06.94z\"/><path d=\"M17.41 7.96l-1.37-1.37c-.4-.4-.92-.59-1.43-.59-.52 0-1.04.2-1.43.59L10.3 9.45l-7.72 7.72c-.78.78-.78 2.05 0 2.83L4 21.41c.39.39.9.59 1.41.59.51 0 1.02-.2 1.41-.59l7.78-7.78 2.81-2.81c.8-.78.8-2.07 0-2.86zM5.41 20L4 18.59l7.72-7.72 1.47 1.35L5.41 20z\"/>\n",
              "  </svg>\n",
              "      </button>\n",
              "      \n",
              "  <style>\n",
              "    .colab-df-container {\n",
              "      display:flex;\n",
              "      flex-wrap:wrap;\n",
              "      gap: 12px;\n",
              "    }\n",
              "\n",
              "    .colab-df-convert {\n",
              "      background-color: #E8F0FE;\n",
              "      border: none;\n",
              "      border-radius: 50%;\n",
              "      cursor: pointer;\n",
              "      display: none;\n",
              "      fill: #1967D2;\n",
              "      height: 32px;\n",
              "      padding: 0 0 0 0;\n",
              "      width: 32px;\n",
              "    }\n",
              "\n",
              "    .colab-df-convert:hover {\n",
              "      background-color: #E2EBFA;\n",
              "      box-shadow: 0px 1px 2px rgba(60, 64, 67, 0.3), 0px 1px 3px 1px rgba(60, 64, 67, 0.15);\n",
              "      fill: #174EA6;\n",
              "    }\n",
              "\n",
              "    [theme=dark] .colab-df-convert {\n",
              "      background-color: #3B4455;\n",
              "      fill: #D2E3FC;\n",
              "    }\n",
              "\n",
              "    [theme=dark] .colab-df-convert:hover {\n",
              "      background-color: #434B5C;\n",
              "      box-shadow: 0px 1px 3px 1px rgba(0, 0, 0, 0.15);\n",
              "      filter: drop-shadow(0px 1px 2px rgba(0, 0, 0, 0.3));\n",
              "      fill: #FFFFFF;\n",
              "    }\n",
              "  </style>\n",
              "\n",
              "      <script>\n",
              "        const buttonEl =\n",
              "          document.querySelector('#df-e7c86238-ac84-4e99-8bfd-9b47464fb967 button.colab-df-convert');\n",
              "        buttonEl.style.display =\n",
              "          google.colab.kernel.accessAllowed ? 'block' : 'none';\n",
              "\n",
              "        async function convertToInteractive(key) {\n",
              "          const element = document.querySelector('#df-e7c86238-ac84-4e99-8bfd-9b47464fb967');\n",
              "          const dataTable =\n",
              "            await google.colab.kernel.invokeFunction('convertToInteractive',\n",
              "                                                     [key], {});\n",
              "          if (!dataTable) return;\n",
              "\n",
              "          const docLinkHtml = 'Like what you see? Visit the ' +\n",
              "            '<a target=\"_blank\" href=https://colab.research.google.com/notebooks/data_table.ipynb>data table notebook</a>'\n",
              "            + ' to learn more about interactive tables.';\n",
              "          element.innerHTML = '';\n",
              "          dataTable['output_type'] = 'display_data';\n",
              "          await google.colab.output.renderOutput(dataTable, element);\n",
              "          const docLink = document.createElement('div');\n",
              "          docLink.innerHTML = docLinkHtml;\n",
              "          element.appendChild(docLink);\n",
              "        }\n",
              "      </script>\n",
              "    </div>\n",
              "  </div>\n",
              "  "
            ]
          },
          "metadata": {},
          "execution_count": 42
        }
      ]
    },
    {
      "cell_type": "markdown",
      "source": [
        "Categorical features distribution :"
      ],
      "metadata": {
        "id": "BZp6s38jjVo3"
      }
    },
    {
      "cell_type": "code",
      "source": [
        "df.select_dtypes([object, bool]).columns"
      ],
      "metadata": {
        "colab": {
          "base_uri": "https://localhost:8080/"
        },
        "id": "7DBdgczVjIXV",
        "outputId": "ff566f9b-7954-40c2-885f-7a16796eb330"
      },
      "execution_count": 43,
      "outputs": [
        {
          "output_type": "execute_result",
          "data": {
            "text/plain": [
              "Index(['NewCreditCustomer', 'VerificationType', 'Gender', 'Country',\n",
              "       'EmploymentDurationCurrentEmployer', 'Rating', 'Restructured',\n",
              "       'CreditScoreEsMicroL', 'LoanStatus'],\n",
              "      dtype='object')"
            ]
          },
          "metadata": {},
          "execution_count": 43
        }
      ]
    },
    {
      "cell_type": "code",
      "source": [
        "# Data visualization using matlibplot and seaborn libraries\n",
        "# define Seaborn color palette to use\n",
        "palette_color = sns.color_palette('Set2')\n",
        "\n",
        "# plotting data on chart\n",
        "plt.pie(df.LoanStatus.value_counts().values, labels = df.LoanStatus.value_counts().index,\n",
        "        explode=[0, 0] ,colors = palette_color, autopct ='%.1f%%', shadow = True)\n",
        "plt.title(\"Percentage of Defaulted to Not Defaulted loans in the dataset\")\n",
        "\n",
        "# displaying chart\n",
        "plt.show()"
      ],
      "metadata": {
        "colab": {
          "base_uri": "https://localhost:8080/",
          "height": 428
        },
        "id": "BJcQ7gXTjQaR",
        "outputId": "e4476d10-1df5-4b28-a90b-fc12c99412b4"
      },
      "execution_count": 46,
      "outputs": [
        {
          "output_type": "display_data",
          "data": {
            "text/plain": [
              "<Figure size 640x480 with 1 Axes>"
            ],
            "image/png": "[encoded data removed]"
          },
          "metadata": {}
        }
      ]
    },
    {
      "cell_type": "markdown",
      "source": [
        "Residency of the Defaulters :"
      ],
      "metadata": {
        "id": "Evw9XtJzjlae"
      }
    },
    {
      "cell_type": "code",
      "source": [
        "# Data visualization using matlibplot and seaborn libraries\n",
        "# define Seaborn color palette to use\n",
        "palette_color = sns.color_palette('Set2')\n",
        "\n",
        "# plotting data on chart\n",
        "plt.pie(df.Country[df.LoanStatus == 'Default'].value_counts().values,\n",
        "        labels = df.Country[df.LoanStatus == 'Default'].value_counts().index,\n",
        "        explode=[0.1, 0, 0,0] ,colors = palette_color, autopct ='%.1f%%', shadow = True)\n",
        "plt.title(\"Percentage of Defaulted to Not Defaulted loans in the dataset\")\n",
        "\n",
        "# displaying chart\n",
        "plt.show()"
      ],
      "metadata": {
        "colab": {
          "base_uri": "https://localhost:8080/",
          "height": 428
        },
        "id": "hVYhMuvijcG4",
        "outputId": "d4a6e830-17b4-4471-a5ee-6e6b6a670a48"
      },
      "execution_count": 47,
      "outputs": [
        {
          "output_type": "display_data",
          "data": {
            "text/plain": [
              "<Figure size 640x480 with 1 Axes>"
            ],
            "image/png": "[encoded data removed]"
          },
          "metadata": {}
        }
      ]
    },
    {
      "cell_type": "code",
      "source": [
        "# Data visualization using matlibplot and seaborn libraries\n",
        "# define Seaborn color palette to use\n",
        "palette_color = sns.color_palette('Set2')\n",
        "\n",
        "# plotting data on chart\n",
        "plt.pie(df.Gender[df.LoanStatus == 'Default'].value_counts().values,\n",
        "        labels = df.Gender[df.LoanStatus == 'Default'].value_counts().index,\n",
        "        explode=[0.2, 0.1, 0] ,colors = palette_color, autopct ='%.1f%%', shadow = True)\n",
        "plt.title(\"Percentage of each gender of the Deafaulters\")\n",
        "\n",
        "# displaying chart\n",
        "plt.show()"
      ],
      "metadata": {
        "colab": {
          "base_uri": "https://localhost:8080/",
          "height": 428
        },
        "id": "FcCgJIFcjl9e",
        "outputId": "c7a5924d-952c-41a8-ec77-96713a0da357"
      },
      "execution_count": 48,
      "outputs": [
        {
          "output_type": "display_data",
          "data": {
            "text/plain": [
              "<Figure size 640x480 with 1 Axes>"
            ],
            "image/png": "[encoded data removed]"
          },
          "metadata": {}
        }
      ]
    },
    {
      "cell_type": "code",
      "source": [
        "# Data visualization using matlibplot and seaborn libraries\n",
        "# define Seaborn color palette to use\n",
        "palette_color = sns.color_palette('Set2')\n",
        "\n",
        "# plotting data on chart\n",
        "plt.pie(df.NewCreditCustomer[df.LoanStatus == 'Default'].value_counts().values,\n",
        "        labels = df.NewCreditCustomer[df.LoanStatus == 'Default'].value_counts().index,\n",
        "        explode=[0, 0] ,colors = palette_color, autopct ='%.1f%%', shadow = False)\n",
        "plt.title(\"Percentage of New Credit Customer Deafaulters\")\n",
        "\n",
        "# displaying chart\n",
        "plt.show()"
      ],
      "metadata": {
        "colab": {
          "base_uri": "https://localhost:8080/",
          "height": 428
        },
        "id": "t3lLDI2Fjs01",
        "outputId": "cb500af2-dbd3-4032-a840-7bab3b3cb4bd"
      },
      "execution_count": 49,
      "outputs": [
        {
          "output_type": "display_data",
          "data": {
            "text/plain": [
              "<Figure size 640x480 with 1 Axes>"
            ],
            "image/png": "[encoded data removed]"
          },
          "metadata": {}
        }
      ]
    },
    {
      "cell_type": "markdown",
      "source": [
        "Language Code Distribution of the Defaulters :"
      ],
      "metadata": {
        "id": "7pljtrhvjybM"
      }
    },
    {
      "cell_type": "code",
      "source": [
        "sns.countplot(y = df.LanguageCode[df.LoanStatus == 'Default'])\n",
        "plt.title('Language Code distribution of the Defaulters');"
      ],
      "metadata": {
        "colab": {
          "base_uri": "https://localhost:8080/",
          "height": 472
        },
        "id": "qGO6ZtoTjvPb",
        "outputId": "831b26e1-08eb-4a4d-e65d-09e03ec03842"
      },
      "execution_count": 50,
      "outputs": [
        {
          "output_type": "display_data",
          "data": {
            "text/plain": [
              "<Figure size 640x480 with 1 Axes>"
            ],
            "image/png": "[encoded data removed]"
          },
          "metadata": {}
        }
      ]
    },
    {
      "cell_type": "code",
      "source": [
        "sns.countplot(data=df, y = df.Education[df.LoanStatus == 'Default'])\n",
        "plt.title('Education distribution of defaulters')\n",
        "plt.ylabel('Education Level');"
      ],
      "metadata": {
        "colab": {
          "base_uri": "https://localhost:8080/",
          "height": 472
        },
        "id": "kJmCTVtujzCe",
        "outputId": "fc6f10f2-0ef7-4234-bff7-35ef9f8d5cd6"
      },
      "execution_count": 51,
      "outputs": [
        {
          "output_type": "display_data",
          "data": {
            "text/plain": [
              "<Figure size 640x480 with 1 Axes>"
            ],
            "image/png": "[encoded data removed]"
          },
          "metadata": {}
        }
      ]
    },
    {
      "cell_type": "code",
      "source": [
        "sns.countplot(data=df, y = df.EmploymentStatus[df.LoanStatus == 'Default'])\n",
        "plt.title('Employment Status distribution of the Defaulters')\n",
        "plt.ylabel('Employment Status');"
      ],
      "metadata": {
        "colab": {
          "base_uri": "https://localhost:8080/",
          "height": 472
        },
        "id": "19MgESY5j5pU",
        "outputId": "3a9ac2b1-124e-4b99-a034-547d38306914"
      },
      "execution_count": 52,
      "outputs": [
        {
          "output_type": "display_data",
          "data": {
            "text/plain": [
              "<Figure size 640x480 with 1 Axes>"
            ],
            "image/png": "[encoded data removed]"
          },
          "metadata": {}
        }
      ]
    },
    {
      "cell_type": "code",
      "source": [
        "sns.countplot(data=df, y = df.MaritalStatus[df.LoanStatus == 'Default'])\n",
        "plt.title('Marital Status distribution of the Defaulters')\n",
        "plt.ylabel('Marital Status');"
      ],
      "metadata": {
        "colab": {
          "base_uri": "https://localhost:8080/",
          "height": 472
        },
        "id": "gCPFc7sQj8GA",
        "outputId": "7a4ca5ef-243f-4157-9f9d-e25194d4741f"
      },
      "execution_count": 53,
      "outputs": [
        {
          "output_type": "display_data",
          "data": {
            "text/plain": [
              "<Figure size 640x480 with 1 Axes>"
            ],
            "image/png": "[encoded data removed]"
          },
          "metadata": {}
        }
      ]
    },
    {
      "cell_type": "code",
      "source": [
        "sns.countplot(data=df, y = df.EmploymentStatus[df.LoanStatus == 'Default'])\n",
        "plt.title('Employment Status distribution of the Defaulters')\n",
        "plt.ylabel('Employment Status');"
      ],
      "metadata": {
        "colab": {
          "base_uri": "https://localhost:8080/",
          "height": 472
        },
        "id": "_hUNXzHoj-5f",
        "outputId": "c4556975-55eb-4e72-8ac3-2041d40dfdfe"
      },
      "execution_count": 59,
      "outputs": [
        {
          "output_type": "display_data",
          "data": {
            "text/plain": [
              "<Figure size 640x480 with 1 Axes>"
            ],
            "image/png": "[encoded data removed]"
          },
          "metadata": {}
        }
      ]
    },
    {
      "cell_type": "code",
      "source": [
        "sns.countplot(data=df, y = df.MaritalStatus[df.LoanStatus == 'Default'])\n",
        "plt.title('Marital Status distribution of the Defaulters')\n",
        "plt.ylabel('Marital Status');"
      ],
      "metadata": {
        "colab": {
          "base_uri": "https://localhost:8080/",
          "height": 472
        },
        "id": "laq53an6kCIc",
        "outputId": "e5200525-ed58-46af-ec1f-a9fd93af4318"
      },
      "execution_count": 61,
      "outputs": [
        {
          "output_type": "display_data",
          "data": {
            "text/plain": [
              "<Figure size 640x480 with 1 Axes>"
            ],
            "image/png": "[encoded data removed]"
          },
          "metadata": {}
        }
      ]
    },
    {
      "cell_type": "code",
      "source": [
        "sns.countplot(data=df, y = df.UseOfLoan[df.LoanStatus == 'Default'])\n",
        "plt.title('Distribution of Loan purpose of the Defaulters')\n",
        "plt.ylabel('Loan purpose');"
      ],
      "metadata": {
        "colab": {
          "base_uri": "https://localhost:8080/",
          "height": 472
        },
        "id": "zgnPPxNJkIfE",
        "outputId": "13c01486-0a78-4bef-e2ed-81e416c6e672"
      },
      "execution_count": 62,
      "outputs": [
        {
          "output_type": "display_data",
          "data": {
            "text/plain": [
              "<Figure size 640x480 with 1 Axes>"
            ],
            "image/png": "[encoded data removed]"
          },
          "metadata": {}
        }
      ]
    },
    {
      "cell_type": "code",
      "source": [
        "sns.countplot(data=df, y = df.EmploymentDurationCurrentEmployer[df.LoanStatus == 'Default'])\n",
        "plt.title('Distribution of  Employment Duration with current employer of the Defaulters')\n",
        "plt.ylabel('Employment Duration ');"
      ],
      "metadata": {
        "colab": {
          "base_uri": "https://localhost:8080/",
          "height": 472
        },
        "id": "Vfx83b5YkSQK",
        "outputId": "608d7864-c19b-4158-e22a-aef149b12550"
      },
      "execution_count": 63,
      "outputs": [
        {
          "output_type": "display_data",
          "data": {
            "text/plain": [
              "<Figure size 640x480 with 1 Axes>"
            ],
            "image/png": "[encoded data removed]"
          },
          "metadata": {}
        }
      ]
    },
    {
      "cell_type": "code",
      "source": [],
      "metadata": {
        "id": "-BnVUiX1kvew"
      },
      "execution_count": null,
      "outputs": []
    }
  ]
}